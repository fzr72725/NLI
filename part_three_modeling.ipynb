{
 "cells": [
  {
   "cell_type": "code",
   "execution_count": 51,
   "metadata": {
    "collapsed": true
   },
   "outputs": [],
   "source": [
    "import pandas as pd\n",
    "import numpy as np\n",
    "import prework as pwk\n",
    "import string\n",
    "from time import time\n",
    "\n",
    "from sklearn.preprocessing import StandardScaler\n",
    "from sklearn.feature_extraction.text import TfidfVectorizer\n",
    "from sklearn.cross_validation import train_test_split, cross_val_score\n",
    "from sklearn.feature_extraction.text import TfidfTransformer, CountVectorizer\n",
    "from sklearn.linear_model import LogisticRegression\n",
    "from sklearn.naive_bayes import MultinomialNB\n",
    "from sklearn.ensemble import RandomForestClassifier, GradientBoostingClassifier\n",
    "from sklearn.ensemble.partial_dependence import plot_partial_dependence\n",
    "from sklearn.svm import LinearSVC\n",
    "from sklearn.grid_search import GridSearchCV\n",
    "from sklearn.pipeline import Pipeline\n",
    "from sklearn.metrics import recall_score, accuracy_score, precision_score, roc_auc_score\n",
    "from nltk.stem.snowball import SnowballStemmer\n",
    "from nltk.stem.wordnet import WordNetLemmatizer\n",
    "from collections import Counter\n",
    "\n",
    "import matplotlib.pyplot as plt\n",
    "%matplotlib inline"
   ]
  },
  {
   "cell_type": "code",
   "execution_count": 2,
   "metadata": {
    "collapsed": true
   },
   "outputs": [],
   "source": [
    "df_0 = pd.read_pickle('data/pickles/20180117_part_one.pkl')"
   ]
  },
  {
   "cell_type": "code",
   "execution_count": 12,
   "metadata": {},
   "outputs": [
    {
     "data": {
      "text/plain": [
       "'doc_id, path, author_code, essay_content, label, unique_lemma, avg_stc_length, total_stc, DT_pos, POS_adjv_body, POS_adjv_repeat_rate, POS_adjv_repeat_cnt, DT_archs, DT_max_dp_cnts, DT_ROOT_idx, DT_pass_cnt, DT_mark_cnt, DT_pos_join, DT_archs_join, DT_insent_pos_ngram, DT_insent_arch_ngram, DT_max_dp_cnts_std, DT_ROOT_idx_mean, DT_pass_cnt_sum, DT_mark_cnt_sum'"
      ]
     },
     "execution_count": 12,
     "metadata": {},
     "output_type": "execute_result"
    }
   ],
   "source": [
    "', '.join(df_0.columns)"
   ]
  },
  {
   "cell_type": "code",
   "execution_count": 5,
   "metadata": {
    "collapsed": true
   },
   "outputs": [],
   "source": [
    "# Select all numerical features into a new dataframe\n",
    "numerics = ['int16', 'int32', 'int64', 'float16', 'float32', 'float64']\n",
    "df_numeric = df_0.select_dtypes(include=numerics)"
   ]
  },
  {
   "cell_type": "code",
   "execution_count": 15,
   "metadata": {},
   "outputs": [
    {
     "data": {
      "text/plain": [
       "'doc_id, unique_lemma, avg_stc_length, total_stc, POS_adjv_repeat_rate, POS_adjv_repeat_cnt, DT_max_dp_cnts_std, DT_ROOT_idx_mean, DT_pass_cnt_sum, DT_mark_cnt_sum'"
      ]
     },
     "execution_count": 15,
     "metadata": {},
     "output_type": "execute_result"
    }
   ],
   "source": [
    "', '.join(df_numeric.columns)"
   ]
  },
  {
   "cell_type": "code",
   "execution_count": 16,
   "metadata": {
    "collapsed": true
   },
   "outputs": [],
   "source": [
    "X = df_0[['unique_lemma', 'avg_stc_length', \\\n",
    "          'total_stc', 'POS_adjv_repeat_rate', \\\n",
    "          'POS_adjv_repeat_cnt', 'DT_max_dp_cnts_std', \\\n",
    "          'DT_ROOT_idx_mean', 'DT_pass_cnt_sum', 'DT_mark_cnt_sum']]\n",
    "y = df_0['label']\n",
    "X_train, X_test, y_train, y_test = train_test_split(X, y)"
   ]
  },
  {
   "cell_type": "markdown",
   "metadata": {},
   "source": [
    "### Random Forest Feature Importance"
   ]
  },
  {
   "cell_type": "code",
   "execution_count": 17,
   "metadata": {},
   "outputs": [
    {
     "name": "stdout",
     "output_type": "stream",
     "text": [
      "Fitting 5 folds for each of 162 candidates, totalling 810 fits\n"
     ]
    },
    {
     "name": "stderr",
     "output_type": "stream",
     "text": [
      "[Parallel(n_jobs=-1)]: Done  42 tasks      | elapsed:   34.1s\n",
      "[Parallel(n_jobs=-1)]: Done 192 tasks      | elapsed:  2.5min\n",
      "[Parallel(n_jobs=-1)]: Done 442 tasks      | elapsed:  5.1min\n",
      "[Parallel(n_jobs=-1)]: Done 792 tasks      | elapsed:  9.5min\n",
      "[Parallel(n_jobs=-1)]: Done 810 out of 810 | elapsed:  9.7min finished\n"
     ]
    },
    {
     "name": "stdout",
     "output_type": "stream",
     "text": [
      "Pipeline(steps=[('rfclf', RandomForestClassifier(bootstrap=True, class_weight=None, criterion='gini',\n",
      "            max_depth=None, max_features='sqrt', max_leaf_nodes=None,\n",
      "            min_samples_leaf=3, min_samples_split=4,\n",
      "            min_weight_fraction_leaf=0.0, n_estimators=200, n_jobs=1,\n",
      "            oob_score=False, random_state=None, verbose=0,\n",
      "            warm_start=False))])\n"
     ]
    }
   ],
   "source": [
    "model = ('rfclf', RandomForestClassifier())\n",
    "\n",
    "steps = [\n",
    "    model\n",
    "]\n",
    "random_forest_grid = {'rfclf__max_depth': [None, 2, 3],\n",
    "                      'rfclf__max_features': ['sqrt', 'log2', None],\n",
    "                      'rfclf__min_samples_split': [2, 3, 4],\n",
    "                      'rfclf__min_samples_leaf': [1, 2, 3],\n",
    "                      'rfclf__bootstrap': [True, False],\n",
    "                      'rfclf__n_estimators': [200]}\n",
    "\n",
    "pipeline = Pipeline(steps)\n",
    "gridsearch = GridSearchCV(pipeline,\n",
    "                         random_forest_grid,\n",
    "                         n_jobs=-1,\n",
    "                         cv=5,\n",
    "                         verbose=1,\n",
    "                         scoring='accuracy')\n",
    "\n",
    "gridsearch.fit(X_train, y_train)\n",
    "best_rf_model = gridsearch.best_estimator_\n",
    "print (best_rf_model)"
   ]
  },
  {
   "cell_type": "code",
   "execution_count": 18,
   "metadata": {},
   "outputs": [
    {
     "data": {
      "text/plain": [
       "RandomForestClassifier(bootstrap=True, class_weight=None, criterion='gini',\n",
       "            max_depth=None, max_features='sqrt', max_leaf_nodes=None,\n",
       "            min_samples_leaf=3, min_samples_split=4,\n",
       "            min_weight_fraction_leaf=0.0, n_estimators=200, n_jobs=1,\n",
       "            oob_score=False, random_state=None, verbose=0,\n",
       "            warm_start=False)"
      ]
     },
     "execution_count": 18,
     "metadata": {},
     "output_type": "execute_result"
    }
   ],
   "source": [
    "rf_clf = RandomForestClassifier(bootstrap=True, class_weight=None, criterion='gini',\n",
    "            max_depth=None, max_features='sqrt', max_leaf_nodes=None,\n",
    "            min_samples_leaf=3, min_samples_split=4,\n",
    "            min_weight_fraction_leaf=0.0, n_estimators=200, n_jobs=1,\n",
    "            oob_score=False, random_state=None, verbose=0,\n",
    "            warm_start=False)\n",
    "rf_clf.fit(X_train, y_train)"
   ]
  },
  {
   "cell_type": "code",
   "execution_count": 33,
   "metadata": {},
   "outputs": [
    {
     "data": {
      "image/png": "[encoded data removed]",
      "text/plain": [
       "<matplotlib.figure.Figure at 0x1a144abf10>"
      ]
     },
     "metadata": {},
     "output_type": "display_data"
    }
   ],
   "source": [
    "importances = rf_clf.feature_importances_\n",
    "indices = np.argsort(importances)[::-1]\n",
    "feature_names = list(X_train.columns[indices])\n",
    "f_num = len(feature_names)\n",
    "#print importances[indices]\n",
    "plt.figure(figsize=(15,10))\n",
    "plt.title(\"Feature importances\")\n",
    "plt.bar(range(f_num), importances[indices], color=\"r\", align=\"center\")\n",
    "plt.xticks(range(f_num), feature_names, rotation=40)\n",
    "plt.xlim([-1, 10])\n",
    "plt.show()"
   ]
  },
  {
   "cell_type": "markdown",
   "metadata": {},
   "source": [
    "### GradientBoosting Partial Dependence"
   ]
  },
  {
   "cell_type": "code",
   "execution_count": 37,
   "metadata": {},
   "outputs": [
    {
     "name": "stdout",
     "output_type": "stream",
     "text": [
      "Fitting 5 folds for each of 36 candidates, totalling 180 fits\n"
     ]
    },
    {
     "name": "stderr",
     "output_type": "stream",
     "text": [
      "[Parallel(n_jobs=-1)]: Done  42 tasks      | elapsed:  1.6min\n",
      "[Parallel(n_jobs=-1)]: Done 180 out of 180 | elapsed:  6.5min finished\n"
     ]
    },
    {
     "name": "stdout",
     "output_type": "stream",
     "text": [
      "('best parameters:', {'max_features': 1.0, 'n_estimators': 200, 'learning_rate': 0.1, 'max_depth': 2, 'min_samples_leaf': 2})\n",
      "GradientBoostingClassifier(init=None, learning_rate=0.1, loss='deviance',\n",
      "              max_depth=2, max_features=1.0, max_leaf_nodes=None,\n",
      "              min_samples_leaf=2, min_samples_split=2,\n",
      "              min_weight_fraction_leaf=0.0, n_estimators=200,\n",
      "              presort='auto', random_state=None, subsample=1.0, verbose=0,\n",
      "              warm_start=False)\n"
     ]
    }
   ],
   "source": [
    "gradient_boosting_grid = {'learning_rate': [0.1, 0.05, 0.02],\n",
    "                          'max_depth': [2, 4],\n",
    "                          'min_samples_leaf': [1, 2, 5],\n",
    "                          'max_features': [1.0, 0.5],\n",
    "                          'n_estimators': [200]}\n",
    "\n",
    "gbclf_gridsearch = GridSearchCV(GradientBoostingClassifier(), \n",
    "                              gradient_boosting_grid,\n",
    "                              cv=5,\n",
    "                              verbose=1,\n",
    "                              n_jobs=-1,\n",
    "                              scoring='accuracy')\n",
    "gbclf_gridsearch.fit(X_train, y_train)\n",
    "print (\"best parameters:\", gbclf_gridsearch.best_params_)\n",
    "\n",
    "best_gbclf_model = gbclf_gridsearch.best_estimator_\n",
    "print best_gbclf_model"
   ]
  },
  {
   "cell_type": "code",
   "execution_count": 38,
   "metadata": {},
   "outputs": [
    {
     "data": {
      "text/plain": [
       "GradientBoostingClassifier(init=None, learning_rate=0.1, loss='deviance',\n",
       "              max_depth=2, max_features=1.0, max_leaf_nodes=None,\n",
       "              min_samples_leaf=2, min_samples_split=2,\n",
       "              min_weight_fraction_leaf=0.0, n_estimators=200,\n",
       "              presort='auto', random_state=None, subsample=1.0, verbose=0,\n",
       "              warm_start=False)"
      ]
     },
     "execution_count": 38,
     "metadata": {},
     "output_type": "execute_result"
    }
   ],
   "source": [
    "gdb_clf = GradientBoostingClassifier(init=None, learning_rate=0.1, loss='deviance',\n",
    "              max_depth=2, max_features=1.0, max_leaf_nodes=None,\n",
    "              min_samples_leaf=2, min_samples_split=2,\n",
    "              min_weight_fraction_leaf=0.0, n_estimators=200,\n",
    "              presort='auto', random_state=None, subsample=1.0, verbose=0,\n",
    "              warm_start=False)\n",
    "gdb_clf.fit(X_train, y_train)"
   ]
  },
  {
   "cell_type": "code",
   "execution_count": 48,
   "metadata": {},
   "outputs": [
    {
     "data": {
      "image/png": "[encoded data removed]",
      "text/plain": [
       "<matplotlib.figure.Figure at 0x1a14cee210>"
      ]
     },
     "metadata": {},
     "output_type": "display_data"
    }
   ],
   "source": [
    "names = X_train.columns\n",
    "\n",
    "features = [0,1,2,3,4,5,6,7,8]\n",
    "fig, axs = plot_partial_dependence(gdb_clf, X_train, features,\n",
    "                                       feature_names=names,\n",
    "                                       n_jobs=3, grid_resolution=50, label='JPN')\n",
    "for x in axs:\n",
    "    x.set_ylim(-1, 1)\n",
    "\n",
    "fig.set_size_inches(18.5, 10.5, forward=True)\n",
    "plt.subplots_adjust(top=0.9)"
   ]
  },
  {
   "cell_type": "code",
   "execution_count": 49,
   "metadata": {},
   "outputs": [
    {
     "data": {
      "image/png": "[encoded data removed]",
      "text/plain": [
       "<matplotlib.figure.Figure at 0x1a14814a90>"
      ]
     },
     "metadata": {},
     "output_type": "display_data"
    }
   ],
   "source": [
    "fig, axs = plot_partial_dependence(gdb_clf, X_train, features,\n",
    "                                       feature_names=names,\n",
    "                                       n_jobs=3, grid_resolution=50, label='KOR')\n",
    "for x in axs:\n",
    "    x.set_ylim(-1, 1)\n",
    "fig.set_size_inches(18.5, 10.5, forward=True)\n",
    "plt.subplots_adjust(top=0.9)"
   ]
  },
  {
   "cell_type": "markdown",
   "metadata": {},
   "source": [
    "### See how mere numeric features perform with different algorithms"
   ]
  },
  {
   "cell_type": "code",
   "execution_count": 52,
   "metadata": {},
   "outputs": [
    {
     "name": "stdout",
     "output_type": "stream",
     "text": [
      "0.351129889756\n"
     ]
    }
   ],
   "source": [
    "pipeline_lgr = Pipeline([\n",
    "    ('scaler', StandardScaler()),\n",
    "    ('clf', LogisticRegression(penalty='l2', C=1))\n",
    "])\n",
    "scores = cross_val_score(pipeline_lgr, X_train, y_train, cv=11, scoring='accuracy')\n",
    "print scores.mean()"
   ]
  },
  {
   "cell_type": "code",
   "execution_count": 53,
   "metadata": {},
   "outputs": [
    {
     "name": "stdout",
     "output_type": "stream",
     "text": [
      "0.355977554772\n"
     ]
    }
   ],
   "source": [
    "pipeline_lgr = Pipeline([\n",
    "    ('scaler', StandardScaler()),\n",
    "    ('clf', RandomForestClassifier(bootstrap=True, class_weight=None, criterion='gini',\n",
    "            max_depth=None, max_features='sqrt', max_leaf_nodes=None,\n",
    "            min_samples_leaf=3, min_samples_split=4,\n",
    "            min_weight_fraction_leaf=0.0, n_estimators=200, n_jobs=1,\n",
    "            oob_score=False, random_state=None, verbose=0,\n",
    "            warm_start=False))\n",
    "])\n",
    "scores = cross_val_score(pipeline_lgr, X_train, y_train, cv=11, scoring='accuracy')\n",
    "print scores.mean()"
   ]
  },
  {
   "cell_type": "code",
   "execution_count": 54,
   "metadata": {},
   "outputs": [
    {
     "name": "stdout",
     "output_type": "stream",
     "text": [
      "0.351245166152\n"
     ]
    }
   ],
   "source": [
    "pipeline_lgr = Pipeline([\n",
    "    ('scaler', StandardScaler()),\n",
    "    ('clf', GradientBoostingClassifier(init=None, learning_rate=0.1, loss='deviance',\n",
    "              max_depth=2, max_features=1.0, max_leaf_nodes=None,\n",
    "              min_samples_leaf=2, min_samples_split=2,\n",
    "              min_weight_fraction_leaf=0.0, n_estimators=200,\n",
    "              presort='auto', random_state=None, subsample=1.0, verbose=0,\n",
    "              warm_start=False))\n",
    "])\n",
    "scores = cross_val_score(pipeline_lgr, X_train, y_train, cv=11, scoring='accuracy')\n",
    "print scores.mean()"
   ]
  },
  {
   "cell_type": "markdown",
   "metadata": {},
   "source": [
    "### tfidf on Syntactic Features"
   ]
  },
  {
   "cell_type": "code",
   "execution_count": 83,
   "metadata": {},
   "outputs": [
    {
     "name": "stdout",
     "output_type": "stream",
     "text": [
      "0.664607324846\n"
     ]
    }
   ],
   "source": [
    "X = df_0['DT_pos_join']\n",
    "y = df_0['label']\n",
    "X_train, X_test, y_train, y_test = train_test_split(X, y, train_size=0.8)\n",
    "\n",
    "pipeline_lgr = Pipeline([\n",
    "    ('vect', TfidfVectorizer(lowercase=True, ngram_range=(3,3), max_features=800)),\n",
    "    ('clf', LogisticRegression())\n",
    "])\n",
    "scores = cross_val_score(pipeline_lgr, X_train, y_train, cv=5, scoring='accuracy')\n",
    "print scores.mean()"
   ]
  },
  {
   "cell_type": "code",
   "execution_count": 84,
   "metadata": {},
   "outputs": [
    {
     "name": "stdout",
     "output_type": "stream",
     "text": [
      "0.655624609373\n"
     ]
    }
   ],
   "source": [
    "X = df_0['DT_archs_join']\n",
    "y = df_0['label']\n",
    "X_train, X_test, y_train, y_test = train_test_split(X, y, train_size=0.8)\n",
    "\n",
    "pipeline_lgr = Pipeline([\n",
    "    ('vect', TfidfVectorizer(lowercase=True, ngram_range=(3,3), max_features=800)),\n",
    "    ('clf', LogisticRegression())\n",
    "])\n",
    "scores = cross_val_score(pipeline_lgr, X_train, y_train, cv=5, scoring='accuracy')\n",
    "print scores.mean()"
   ]
  },
  {
   "cell_type": "code",
   "execution_count": 85,
   "metadata": {},
   "outputs": [
    {
     "name": "stdout",
     "output_type": "stream",
     "text": [
      "0.65240657206\n"
     ]
    }
   ],
   "source": [
    "n = 3\n",
    "df_0['DT_insent_pos_ngram'] = df_0['DT_pos'].apply(lambda x: pwk.loop_body(x, n))\n",
    "\n",
    "X = df_0['DT_insent_pos_ngram']\n",
    "y = df_0['label']\n",
    "X_train, X_test, y_train, y_test = train_test_split(X, y, train_size=0.8)\n",
    "\n",
    "pipeline_lgr = Pipeline([\n",
    "    ('vect', TfidfVectorizer(lowercase=True, ngram_range=(1,1), max_features=800)),\n",
    "    ('clf', LogisticRegression())\n",
    "])\n",
    "scores = cross_val_score(pipeline_lgr, X_train, y_train, cv=5, scoring='accuracy')\n",
    "print scores.mean()"
   ]
  },
  {
   "cell_type": "code",
   "execution_count": 88,
   "metadata": {},
   "outputs": [
    {
     "name": "stdout",
     "output_type": "stream",
     "text": [
      "0.645502590324\n"
     ]
    }
   ],
   "source": [
    "n = 3\n",
    "df_0['DT_insent_arch_ngram'] = df_0['DT_archs'].apply(lambda x: pwk.loop_body(x, n))\n",
    "\n",
    "X = df_0['DT_insent_arch_ngram']\n",
    "y = df_0['label']\n",
    "X_train, X_test, y_train, y_test = train_test_split(X, y, train_size=0.8)\n",
    "\n",
    "pipeline_lgr = Pipeline([\n",
    "    ('vect', TfidfVectorizer(lowercase=True, ngram_range=(1,1), max_features=800)),\n",
    "    ('clf', LogisticRegression())\n",
    "])\n",
    "scores = cross_val_score(pipeline_lgr, X_train, y_train, cv=5, scoring='accuracy')\n",
    "print scores.mean()"
   ]
  },
  {
   "cell_type": "markdown",
   "metadata": {},
   "source": [
    "**Try Stack Features**"
   ]
  },
  {
   "cell_type": "code",
   "execution_count": 89,
   "metadata": {
    "collapsed": true
   },
   "outputs": [],
   "source": [
    "X = df_0[['DT_pos_join','DT_insent_pos_ngram']]\n",
    "y = df_0['label']\n",
    "X_train, X_test, y_train, y_test = train_test_split(X, y, train_size=0.8)"
   ]
  },
  {
   "cell_type": "code",
   "execution_count": 95,
   "metadata": {
    "collapsed": true
   },
   "outputs": [],
   "source": [
    "vectorizer1 = TfidfVectorizer(lowercase=True, ngram_range=(3,3), max_features=800).fit(X_train['DT_pos_join'])\n",
    "DT_pos_join_train_dtm = vectorizer1.transform(X_train['DT_pos_join'])\n",
    "DT_pos_join_test_dtm = vectorizer1.transform(X_test['DT_pos_join'])"
   ]
  },
  {
   "cell_type": "code",
   "execution_count": 96,
   "metadata": {
    "collapsed": true
   },
   "outputs": [],
   "source": [
    "vectorizer2 = TfidfVectorizer(lowercase=True, ngram_range=(1,1), max_features=800).fit(X_train['DT_insent_pos_ngram'])\n",
    "DT_insent_pos_ngram_train_dtm = vectorizer2.transform(X_train['DT_insent_pos_ngram'])\n",
    "DT_insent_pos_ngram_test_dtm = vectorizer2.transform(X_test['DT_insent_pos_ngram'])"
   ]
  },
  {
   "cell_type": "code",
   "execution_count": 98,
   "metadata": {
    "collapsed": true
   },
   "outputs": [],
   "source": [
    "import scipy as sp\n",
    "df_all_train = sp.sparse.hstack((DT_pos_join_train_dtm, DT_insent_pos_ngram_train_dtm),format='csr')\n",
    "df_all_test = sp.sparse.hstack((DT_insent_pos_ngram_test_dtm, DT_insent_pos_ngram_test_dtm),format='csr')\n",
    "df_all_columns=vectorizer1.get_feature_names() + vectorizer2.get_feature_names()\n"
   ]
  },
  {
   "cell_type": "code",
   "execution_count": 99,
   "metadata": {},
   "outputs": [
    {
     "name": "stdout",
     "output_type": "stream",
     "text": [
      "0.652777777778\n"
     ]
    }
   ],
   "source": [
    "clf = LogisticRegression()\n",
    "clf.fit(df_all_train, y_train)\n",
    "y_pred = clf.predict(df_all_test)\n",
    "print accuracy_score(y_test, y_pred)"
   ]
  },
  {
   "cell_type": "markdown",
   "metadata": {},
   "source": [
    "**The accuracy does not improve much**"
   ]
  },
  {
   "cell_type": "markdown",
   "metadata": {},
   "source": [
    "### Doc2vec features on classification"
   ]
  },
  {
   "cell_type": "code",
   "execution_count": 101,
   "metadata": {},
   "outputs": [
    {
     "name": "stdout",
     "output_type": "stream",
     "text": [
      "[0.81944444444444442, 0.82986111111111116, 0.80902777777777779, 0.81423611111111116, 0.83506944444444442]\n"
     ]
    }
   ],
   "source": [
    "train_data, test_data = train_test_split(df_0, train_size=0.8)\n",
    "col = 'essay_content'\n",
    "\n",
    "clf = LogisticRegression()\n",
    "print pwk.k_fold_doc2vec_clf(train_data, col, 2, 100, clf)"
   ]
  },
  {
   "cell_type": "code",
   "execution_count": 107,
   "metadata": {
    "collapsed": true
   },
   "outputs": [],
   "source": [
    "train_data, test_data = train_test_split(df_0, train_size=0.8)\n",
    "\n",
    "col = 'essay_content'\n",
    "train_docs = pwk.tag_docs(train_data, col, literal=True)\n",
    "test_docs = pwk.tag_docs(test_data, col, literal=True)\n",
    "model = pwk.train_doc2vec_model(train_docs, 2, 100)\n",
    "    \n",
    "y_train, X_train = pwk.vec_for_learning(model, train_docs)\n",
    "y_test, X_test = pwk.vec_for_learning(model, test_docs)\n",
    "    \n",
    "logreg = LogisticRegression()\n",
    "logreg.fit(X_train, y_train)\n",
    "y_pred = logreg.predict(X_test)"
   ]
  },
  {
   "cell_type": "code",
   "execution_count": 108,
   "metadata": {},
   "outputs": [
    {
     "data": {
      "text/html": [
       "<div>\n",
       "<table border=\"1\" class=\"dataframe\">\n",
       "  <thead>\n",
       "    <tr style=\"text-align: right;\">\n",
       "      <th>Predicted</th>\n",
       "      <th>CHN</th>\n",
       "      <th>ENS</th>\n",
       "      <th>IDN</th>\n",
       "      <th>JPN</th>\n",
       "      <th>KOR</th>\n",
       "      <th>PAK</th>\n",
       "      <th>PHL</th>\n",
       "      <th>SIN</th>\n",
       "      <th>THA</th>\n",
       "      <th>All</th>\n",
       "      <th>Accuracy</th>\n",
       "    </tr>\n",
       "    <tr>\n",
       "      <th>Actual</th>\n",
       "      <th></th>\n",
       "      <th></th>\n",
       "      <th></th>\n",
       "      <th></th>\n",
       "      <th></th>\n",
       "      <th></th>\n",
       "      <th></th>\n",
       "      <th></th>\n",
       "      <th></th>\n",
       "      <th></th>\n",
       "      <th></th>\n",
       "    </tr>\n",
       "  </thead>\n",
       "  <tbody>\n",
       "    <tr>\n",
       "      <th>CHN</th>\n",
       "      <td>74</td>\n",
       "      <td>0</td>\n",
       "      <td>1</td>\n",
       "      <td>3</td>\n",
       "      <td>0</td>\n",
       "      <td>0</td>\n",
       "      <td>0</td>\n",
       "      <td>2</td>\n",
       "      <td>4</td>\n",
       "      <td>84</td>\n",
       "      <td>0.880952</td>\n",
       "    </tr>\n",
       "    <tr>\n",
       "      <th>ENS</th>\n",
       "      <td>2</td>\n",
       "      <td>70</td>\n",
       "      <td>2</td>\n",
       "      <td>1</td>\n",
       "      <td>2</td>\n",
       "      <td>2</td>\n",
       "      <td>2</td>\n",
       "      <td>7</td>\n",
       "      <td>2</td>\n",
       "      <td>90</td>\n",
       "      <td>0.777778</td>\n",
       "    </tr>\n",
       "    <tr>\n",
       "      <th>IDN</th>\n",
       "      <td>2</td>\n",
       "      <td>0</td>\n",
       "      <td>63</td>\n",
       "      <td>0</td>\n",
       "      <td>4</td>\n",
       "      <td>1</td>\n",
       "      <td>6</td>\n",
       "      <td>1</td>\n",
       "      <td>8</td>\n",
       "      <td>85</td>\n",
       "      <td>0.741176</td>\n",
       "    </tr>\n",
       "    <tr>\n",
       "      <th>JPN</th>\n",
       "      <td>0</td>\n",
       "      <td>2</td>\n",
       "      <td>0</td>\n",
       "      <td>80</td>\n",
       "      <td>1</td>\n",
       "      <td>0</td>\n",
       "      <td>0</td>\n",
       "      <td>0</td>\n",
       "      <td>2</td>\n",
       "      <td>85</td>\n",
       "      <td>0.941176</td>\n",
       "    </tr>\n",
       "    <tr>\n",
       "      <th>KOR</th>\n",
       "      <td>3</td>\n",
       "      <td>1</td>\n",
       "      <td>3</td>\n",
       "      <td>4</td>\n",
       "      <td>48</td>\n",
       "      <td>2</td>\n",
       "      <td>1</td>\n",
       "      <td>1</td>\n",
       "      <td>3</td>\n",
       "      <td>66</td>\n",
       "      <td>0.727273</td>\n",
       "    </tr>\n",
       "    <tr>\n",
       "      <th>PAK</th>\n",
       "      <td>2</td>\n",
       "      <td>0</td>\n",
       "      <td>1</td>\n",
       "      <td>1</td>\n",
       "      <td>1</td>\n",
       "      <td>73</td>\n",
       "      <td>1</td>\n",
       "      <td>0</td>\n",
       "      <td>1</td>\n",
       "      <td>80</td>\n",
       "      <td>0.912500</td>\n",
       "    </tr>\n",
       "    <tr>\n",
       "      <th>PHL</th>\n",
       "      <td>1</td>\n",
       "      <td>7</td>\n",
       "      <td>2</td>\n",
       "      <td>0</td>\n",
       "      <td>1</td>\n",
       "      <td>1</td>\n",
       "      <td>54</td>\n",
       "      <td>11</td>\n",
       "      <td>2</td>\n",
       "      <td>79</td>\n",
       "      <td>0.683544</td>\n",
       "    </tr>\n",
       "    <tr>\n",
       "      <th>SIN</th>\n",
       "      <td>0</td>\n",
       "      <td>3</td>\n",
       "      <td>0</td>\n",
       "      <td>1</td>\n",
       "      <td>0</td>\n",
       "      <td>0</td>\n",
       "      <td>2</td>\n",
       "      <td>67</td>\n",
       "      <td>0</td>\n",
       "      <td>73</td>\n",
       "      <td>0.917808</td>\n",
       "    </tr>\n",
       "    <tr>\n",
       "      <th>THA</th>\n",
       "      <td>2</td>\n",
       "      <td>2</td>\n",
       "      <td>5</td>\n",
       "      <td>4</td>\n",
       "      <td>4</td>\n",
       "      <td>0</td>\n",
       "      <td>2</td>\n",
       "      <td>1</td>\n",
       "      <td>58</td>\n",
       "      <td>78</td>\n",
       "      <td>0.743590</td>\n",
       "    </tr>\n",
       "    <tr>\n",
       "      <th>All</th>\n",
       "      <td>86</td>\n",
       "      <td>85</td>\n",
       "      <td>77</td>\n",
       "      <td>94</td>\n",
       "      <td>61</td>\n",
       "      <td>79</td>\n",
       "      <td>68</td>\n",
       "      <td>90</td>\n",
       "      <td>80</td>\n",
       "      <td>720</td>\n",
       "      <td>0.815278</td>\n",
       "    </tr>\n",
       "  </tbody>\n",
       "</table>\n",
       "</div>"
      ],
      "text/plain": [
       "Predicted  CHN  ENS  IDN  JPN  KOR  PAK  PHL  SIN  THA  All  Accuracy\n",
       "Actual                                                               \n",
       "CHN         74    0    1    3    0    0    0    2    4   84  0.880952\n",
       "ENS          2   70    2    1    2    2    2    7    2   90  0.777778\n",
       "IDN          2    0   63    0    4    1    6    1    8   85  0.741176\n",
       "JPN          0    2    0   80    1    0    0    0    2   85  0.941176\n",
       "KOR          3    1    3    4   48    2    1    1    3   66  0.727273\n",
       "PAK          2    0    1    1    1   73    1    0    1   80  0.912500\n",
       "PHL          1    7    2    0    1    1   54   11    2   79  0.683544\n",
       "SIN          0    3    0    1    0    0    2   67    0   73  0.917808\n",
       "THA          2    2    5    4    4    0    2    1   58   78  0.743590\n",
       "All         86   85   77   94   61   79   68   90   80  720  0.815278"
      ]
     },
     "execution_count": 108,
     "metadata": {},
     "output_type": "execute_result"
    }
   ],
   "source": [
    "pwk.print_confusion_matrix(y_test, y_pred)"
   ]
  },
  {
   "cell_type": "code",
   "execution_count": null,
   "metadata": {
    "collapsed": true
   },
   "outputs": [],
   "source": []
  }
 ],
 "metadata": {
  "kernelspec": {
   "display_name": "Python 2",
   "language": "python",
   "name": "python2"
  },
  "language_info": {
   "codemirror_mode": {
    "name": "ipython",
    "version": 2
   },
   "file_extension": ".py",
   "mimetype": "text/x-python",
   "name": "python",
   "nbconvert_exporter": "python",
   "pygments_lexer": "ipython2",
   "version": "2.7.13"
  }
 },
 "nbformat": 4,
 "nbformat_minor": 2
}
