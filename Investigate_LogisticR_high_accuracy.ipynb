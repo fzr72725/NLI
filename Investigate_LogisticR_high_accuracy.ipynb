{
 "cells": [
  {
   "cell_type": "code",
   "execution_count": 40,
   "metadata": {
    "collapsed": true
   },
   "outputs": [],
   "source": [
    "import pandas as pd\n",
    "import numpy as np\n",
    "import prework as pwk\n",
    "import string\n",
    "import sys, os, io\n",
    "\n",
    "\n",
    "from sklearn.feature_extraction.text import TfidfVectorizer\n",
    "from sklearn.cross_validation import train_test_split, cross_val_score\n",
    "from sklearn.feature_extraction.text import TfidfTransformer, CountVectorizer\n",
    "from sklearn.linear_model import LogisticRegression, SGDClassifier\n",
    "from sklearn.naive_bayes import MultinomialNB\n",
    "from sklearn.grid_search import GridSearchCV\n",
    "from sklearn.ensemble import RandomForestClassifier\n",
    "from sklearn.pipeline import Pipeline\n",
    "from sklearn.metrics import recall_score, accuracy_score, precision_score, roc_auc_score\n",
    "from nltk.stem.snowball import SnowballStemmer\n",
    "from nltk.stem.wordnet import WordNetLemmatizer\n",
    "from gensim.models.doc2vec import LabeledSentence, Doc2Vec, Word2Vec\n",
    "from collections import Counter\n",
    "\n",
    "import matplotlib.pyplot as plt\n",
    "%matplotlib inline"
   ]
  },
  {
   "cell_type": "code",
   "execution_count": 41,
   "metadata": {
    "collapsed": true
   },
   "outputs": [],
   "source": [
    "root = 'data/pilot4'"
   ]
  },
  {
   "cell_type": "code",
   "execution_count": 42,
   "metadata": {},
   "outputs": [
    {
     "name": "stdout",
     "output_type": "stream",
     "text": [
      "20\n"
     ]
    },
    {
     "data": {
      "text/plain": [
       "0.5"
      ]
     },
     "execution_count": 42,
     "metadata": {},
     "output_type": "execute_result"
    }
   ],
   "source": [
    "df_orig = pwk.load_data(root, 1, 'CHN', 'ENS')\n",
    "df_orig.head(1)\n",
    "df_1 = df_orig.drop('path', axis=1)\n",
    "pd.set_option('display.max_colwidth', -1)\n",
    "sum(df_1['label']=='CHN')*1./df_1.shape[0]"
   ]
  },
  {
   "cell_type": "code",
   "execution_count": 43,
   "metadata": {},
   "outputs": [
    {
     "data": {
      "text/html": [
       "<div>\n",
       "<table border=\"1\" class=\"dataframe\">\n",
       "  <thead>\n",
       "    <tr style=\"text-align: right;\">\n",
       "      <th></th>\n",
       "      <th>doc_id</th>\n",
       "      <th>author_code</th>\n",
       "      <th>essay_content</th>\n",
       "      <th>label</th>\n",
       "      <th>target</th>\n",
       "    </tr>\n",
       "  </thead>\n",
       "  <tbody>\n",
       "    <tr>\n",
       "      <th>0</th>\n",
       "      <td>1</td>\n",
       "      <td>W_CHN_PTJ0_021_A2_0.txt</td>\n",
       "      <td>﻿I agree that it is important for college students to have apart-time job. Nowadays, a large number of college students are having a part-time job. Some of them hold that part-time jobs can help them to adapt to the society well and give them many experiences. Take a friend of mine for example, when Lily was a college student, she went to supermarket as a promoter or went to be a family teacher every weekend. Then owing to her experiences, she quickly got a good job after graduating from university. in the other students' opinions, they think that they can buy goods they want their parents cannot afford. I know a student that he goes to a restaurant as a waiter at his part-time to earn enough money what a computer needs. Thus, it is important for college students to have a part-time job. However, our parents always don't agree us to get part-time jobs. They are afraid that our study and safety. In my opinion, having a good part-time job is good for students. We should pay attention to the advantages of part-time jobs and make the most of them. Meanwhile, we should learn to get knowledge from the part-time jobs and make them a helpful tool for our development.</td>\n",
       "      <td>CHN</td>\n",
       "      <td>1</td>\n",
       "    </tr>\n",
       "    <tr>\n",
       "      <th>1</th>\n",
       "      <td>2</td>\n",
       "      <td>W_CHN_PTJ0_022_A2_0.txt</td>\n",
       "      <td>﻿In the last years, college students taking a part-time job become very popular in the big city. Many people believe that it is important for college students to have a part-time job. But I disagree with it. I have some reason to support my idea. Firstly, I hold that everyone should have the most important thing to be done in the different period. To be a student, study is the key word for us. If you cannot study well, you waste your time. Secondly, lots of students want to lessen their parents' financial burden through taking a part-time job. But it has a bad effect on their study. They do not know the most important thing their parents respect is that they can learn well and live a better life after they graduate. Therefore, pay much attention on your study now. The most important thing is not to have a part-time job right now, learn professional skills and practice yourself is the most serious thing in the university. If you want to earn more money, this will really help you later. So don't be influenced by others and try to keep on learning knowledge and you will succeed in the future.</td>\n",
       "      <td>CHN</td>\n",
       "      <td>1</td>\n",
       "    </tr>\n",
       "  </tbody>\n",
       "</table>\n",
       "</div>"
      ],
      "text/plain": [
       "   doc_id              author_code  \\\n",
       "0  1       W_CHN_PTJ0_021_A2_0.txt   \n",
       "1  2       W_CHN_PTJ0_022_A2_0.txt   \n",
       "\n",
       "                                                                                                                                                                                                                                                                                                                                                                                                                                                                                                                                                                                                                                                                                                                                                                                                                                                                                                                                                                                                                                                                                                                                                                                                               essay_content  \\\n",
       "0  ﻿I agree that it is important for college students to have apart-time job. Nowadays, a large number of college students are having a part-time job. Some of them hold that part-time jobs can help them to adapt to the society well and give them many experiences. Take a friend of mine for example, when Lily was a college student, she went to supermarket as a promoter or went to be a family teacher every weekend. Then owing to her experiences, she quickly got a good job after graduating from university. in the other students' opinions, they think that they can buy goods they want their parents cannot afford. I know a student that he goes to a restaurant as a waiter at his part-time to earn enough money what a computer needs. Thus, it is important for college students to have a part-time job. However, our parents always don't agree us to get part-time jobs. They are afraid that our study and safety. In my opinion, having a good part-time job is good for students. We should pay attention to the advantages of part-time jobs and make the most of them. Meanwhile, we should learn to get knowledge from the part-time jobs and make them a helpful tool for our development.   \n",
       "1  ﻿In the last years, college students taking a part-time job become very popular in the big city. Many people believe that it is important for college students to have a part-time job. But I disagree with it. I have some reason to support my idea. Firstly, I hold that everyone should have the most important thing to be done in the different period. To be a student, study is the key word for us. If you cannot study well, you waste your time. Secondly, lots of students want to lessen their parents' financial burden through taking a part-time job. But it has a bad effect on their study. They do not know the most important thing their parents respect is that they can learn well and live a better life after they graduate. Therefore, pay much attention on your study now. The most important thing is not to have a part-time job right now, learn professional skills and practice yourself is the most serious thing in the university. If you want to earn more money, this will really help you later. So don't be influenced by others and try to keep on learning knowledge and you will succeed in the future.                                                                          \n",
       "\n",
       "  label  target  \n",
       "0  CHN   1       \n",
       "1  CHN   1       "
      ]
     },
     "execution_count": 43,
     "metadata": {},
     "output_type": "execute_result"
    }
   ],
   "source": [
    "df_1.head(2)"
   ]
  },
  {
   "cell_type": "code",
   "execution_count": 97,
   "metadata": {
    "collapsed": true
   },
   "outputs": [],
   "source": [
    "X = df_1['essay_content']\n",
    "y = df_1['target']\n",
    "X_train, X_test, y_train, y_test = train_test_split(X, y, train_size=0.7)"
   ]
  },
  {
   "cell_type": "code",
   "execution_count": 98,
   "metadata": {},
   "outputs": [
    {
     "data": {
      "text/plain": [
       "0.5714285714285714"
      ]
     },
     "execution_count": 98,
     "metadata": {},
     "output_type": "execute_result"
    }
   ],
   "source": [
    "sum(y_train==1)*1./len(y_train)"
   ]
  },
  {
   "cell_type": "code",
   "execution_count": 99,
   "metadata": {
    "collapsed": true
   },
   "outputs": [],
   "source": [
    "vectorizer = CountVectorizer(lowercase=True, max_features=10)\n",
    "X_train_dtm = vectorizer.fit_transform(X_train)\n",
    "X_test_dtm = vectorizer.transform(X_test)"
   ]
  },
  {
   "cell_type": "code",
   "execution_count": 100,
   "metadata": {
    "collapsed": true
   },
   "outputs": [],
   "source": [
    "terms = np.array(vectorizer.get_feature_names())#[-5:]"
   ]
  },
  {
   "cell_type": "code",
   "execution_count": 101,
   "metadata": {
    "collapsed": true
   },
   "outputs": [],
   "source": [
    "clf = LogisticRegression()\n",
    "#clf.fit(X_train_dtm[120:140], y_train[120:140])\n",
    "clf.fit(X_train_dtm, y_train)\n",
    "y_pred = clf.predict(X_test_dtm)"
   ]
  },
  {
   "cell_type": "code",
   "execution_count": 102,
   "metadata": {},
   "outputs": [
    {
     "data": {
      "text/plain": [
       "0.83333333333333337"
      ]
     },
     "execution_count": 102,
     "metadata": {},
     "output_type": "execute_result"
    }
   ],
   "source": [
    "accuracy_score(y_test, y_pred)"
   ]
  },
  {
   "cell_type": "code",
   "execution_count": 103,
   "metadata": {},
   "outputs": [
    {
     "data": {
      "text/plain": [
       "1     1\n",
       "19    0\n",
       "16    0\n",
       "15    0\n",
       "13    0\n",
       "8     1\n",
       "Name: target, dtype: int64"
      ]
     },
     "execution_count": 103,
     "metadata": {},
     "output_type": "execute_result"
    }
   ],
   "source": [
    "y_test"
   ]
  },
  {
   "cell_type": "code",
   "execution_count": 104,
   "metadata": {},
   "outputs": [
    {
     "data": {
      "text/plain": [
       "array([1, 1, 0, 0, 0, 1])"
      ]
     },
     "execution_count": 104,
     "metadata": {},
     "output_type": "execute_result"
    }
   ],
   "source": [
    "y_pred"
   ]
  },
  {
   "cell_type": "code",
   "execution_count": 105,
   "metadata": {
    "collapsed": true
   },
   "outputs": [],
   "source": [
    "df_result = pd.DataFrame(zip(y_test.index+1, y_test.values, y_pred, ['yes' if i==True else 'no' for i in y_test.values!=y_pred]), columns=['docid', 'actual','predict', 'incorrect'])"
   ]
  },
  {
   "cell_type": "code",
   "execution_count": 106,
   "metadata": {},
   "outputs": [
    {
     "data": {
      "text/html": [
       "<div>\n",
       "<table border=\"1\" class=\"dataframe\">\n",
       "  <thead>\n",
       "    <tr style=\"text-align: right;\">\n",
       "      <th></th>\n",
       "      <th>docid</th>\n",
       "      <th>actual</th>\n",
       "      <th>predict</th>\n",
       "      <th>incorrect</th>\n",
       "    </tr>\n",
       "  </thead>\n",
       "  <tbody>\n",
       "    <tr>\n",
       "      <th>0</th>\n",
       "      <td>2</td>\n",
       "      <td>CHN</td>\n",
       "      <td>CHN</td>\n",
       "      <td>no</td>\n",
       "    </tr>\n",
       "    <tr>\n",
       "      <th>1</th>\n",
       "      <td>20</td>\n",
       "      <td>ENS</td>\n",
       "      <td>CHN</td>\n",
       "      <td>yes</td>\n",
       "    </tr>\n",
       "    <tr>\n",
       "      <th>2</th>\n",
       "      <td>17</td>\n",
       "      <td>ENS</td>\n",
       "      <td>ENS</td>\n",
       "      <td>no</td>\n",
       "    </tr>\n",
       "    <tr>\n",
       "      <th>3</th>\n",
       "      <td>16</td>\n",
       "      <td>ENS</td>\n",
       "      <td>ENS</td>\n",
       "      <td>no</td>\n",
       "    </tr>\n",
       "    <tr>\n",
       "      <th>4</th>\n",
       "      <td>14</td>\n",
       "      <td>ENS</td>\n",
       "      <td>ENS</td>\n",
       "      <td>no</td>\n",
       "    </tr>\n",
       "    <tr>\n",
       "      <th>5</th>\n",
       "      <td>9</td>\n",
       "      <td>CHN</td>\n",
       "      <td>CHN</td>\n",
       "      <td>no</td>\n",
       "    </tr>\n",
       "  </tbody>\n",
       "</table>\n",
       "</div>"
      ],
      "text/plain": [
       "   docid actual predict incorrect\n",
       "0  2      CHN    CHN     no      \n",
       "1  20     ENS    CHN     yes     \n",
       "2  17     ENS    ENS     no      \n",
       "3  16     ENS    ENS     no      \n",
       "4  14     ENS    ENS     no      \n",
       "5  9      CHN    CHN     no      "
      ]
     },
     "execution_count": 106,
     "metadata": {},
     "output_type": "execute_result"
    }
   ],
   "source": [
    "df_result['actual'] = df_result['actual'].map({1: 'CHN', 0: 'ENS'})\n",
    "df_result['predict'] = df_result['predict'].map({1: 'CHN', 0: 'ENS'})\n",
    "df_result"
   ]
  },
  {
   "cell_type": "code",
   "execution_count": 107,
   "metadata": {},
   "outputs": [
    {
     "data": {
      "text/plain": [
       "array([u'and', u'to', u'that', u'of', u'have', u'the', u'for', u'job',\n",
       "       u'part', u'time'], \n",
       "      dtype='<U4')"
      ]
     },
     "execution_count": 107,
     "metadata": {},
     "output_type": "execute_result"
    }
   ],
   "source": [
    "terms[np.argsort(clf.coef_[0])]"
   ]
  },
  {
   "cell_type": "code",
   "execution_count": 108,
   "metadata": {},
   "outputs": [
    {
     "data": {
      "text/plain": [
       "array([-0.61788926, -0.38941854, -0.25351497, -0.23860107, -0.12682995,\n",
       "        0.18298714,  0.21524368,  0.30504745,  0.46465243,  0.60475554])"
      ]
     },
     "execution_count": 108,
     "metadata": {},
     "output_type": "execute_result"
    }
   ],
   "source": [
    "np.sort(clf.coef_[0])"
   ]
  },
  {
   "cell_type": "code",
   "execution_count": 109,
   "metadata": {},
   "outputs": [],
   "source": [
    "term_coef = [t+'('+str(c)+')' for t,c in zip(terms, clf.coef_[0])]"
   ]
  },
  {
   "cell_type": "markdown",
   "metadata": {},
   "source": [
    "### Take one essay from each class -- CHN and ENS"
   ]
  },
  {
   "cell_type": "markdown",
   "metadata": {},
   "source": [
    "**Use the same vacabulary as the one used by Logistic Regression to generate term frequencies**"
   ]
  },
  {
   "cell_type": "code",
   "execution_count": 112,
   "metadata": {
    "collapsed": true
   },
   "outputs": [],
   "source": [
    "X_cn = df_1[1:2]['essay_content']\n",
    "vec_cn = CountVectorizer(lowercase=True, vocabulary=terms)\n",
    "X_cn_dtm = vec_cn.fit_transform(X_cn)\n",
    "\n",
    "X_en = df_1[15:16]['essay_content']\n",
    "vec_en = CountVectorizer(lowercase=True, vocabulary=terms)\n",
    "X_en_dtm = vec_cn.fit_transform(X_en)"
   ]
  },
  {
   "cell_type": "markdown",
   "metadata": {},
   "source": [
    "**Check the term frequency of the sample essay**"
   ]
  },
  {
   "cell_type": "code",
   "execution_count": 113,
   "metadata": {},
   "outputs": [
    {
     "name": "stdout",
     "output_type": "stream",
     "text": [
      "[[ 4  2  4  4  1  4  3 10  5  8]]\n",
      "[[ 6  2  6  6  5  2  5  5  3 12]]\n"
     ]
    }
   ],
   "source": [
    "D_cn = X_cn_dtm.todense()\n",
    "#np.sum(D_cn, axis=0)\n",
    "print D_cn\n",
    "\n",
    "D_en = X_en_dtm.todense()\n",
    "#np.sum(D_en, axis=0)\n",
    "print D_en"
   ]
  },
  {
   "cell_type": "markdown",
   "metadata": {},
   "source": [
    "**Plot terms and term frequencies in both classes**"
   ]
  },
  {
   "cell_type": "code",
   "execution_count": 138,
   "metadata": {},
   "outputs": [
    {
     "data": {
      "image/png": "[encoded data removed]",
      "text/plain": [
       "<matplotlib.figure.Figure at 0x1a208e93d0>"
      ]
     },
     "metadata": {},
     "output_type": "display_data"
    }
   ],
   "source": [
    "tf_cn = np.array(np.sum(D_cn, axis=0))[0]\n",
    "tf_en = np.array(np.sum(D_en, axis=0))[0]\n",
    "fig, ax = plt.subplots()\n",
    "\n",
    "ax.barh(np.arange(0,30,3), tf_cn*clf.coef_[0], 1, label='CHN')\n",
    "ax.barh(np.arange(0,30,3)+1, tf_en*clf.coef_[0], 1, label='ENS')\n",
    "plt.yticks(np.arange(0,30,3), term_coef)\n",
    "ax.legend(bbox_to_anchor=(1.2, 1.03))\n",
    "fig.show()\n",
    "#ax[0].barh(range(10), tf_cn)\n",
    "#ax[1].barh(range(10), tf_en)"
   ]
  },
  {
   "cell_type": "markdown",
   "metadata": {},
   "source": [
    "**As shown in the plot above, just using term frequency, the class of an essay is pretty clear**"
   ]
  },
  {
   "cell_type": "markdown",
   "metadata": {},
   "source": [
    "**To prove the above conclusion, use the same Logistic Regression model to predict the probablity of the sample essays' classes**"
   ]
  },
  {
   "cell_type": "code",
   "execution_count": 115,
   "metadata": {},
   "outputs": [
    {
     "name": "stdout",
     "output_type": "stream",
     "text": [
      "Essay id_2's Probablity of being CHN:  0.775028892123\n",
      "Essay id_16's Probablity of being ENS:  0.996715579426\n"
     ]
    }
   ],
   "source": [
    "print 'Essay id_2\\'s Probablity of being CHN: ', clf.predict_proba(X_cn_dtm)[0][1]\n",
    "print 'Essay id_16\\'s Probablity of being ENS: ', clf.predict_proba(X_en_dtm)[0][0]"
   ]
  },
  {
   "cell_type": "markdown",
   "metadata": {},
   "source": [
    "**Now let's analyze the incorrectly classified essay. This essay is written by a native speaker, but was classified as \"written by Chinese author\".**"
   ]
  },
  {
   "cell_type": "code",
   "execution_count": 118,
   "metadata": {
    "collapsed": true
   },
   "outputs": [],
   "source": [
    "X_wrong = df_1[19:20]['essay_content']\n",
    "vec_wrong = CountVectorizer(lowercase=True, vocabulary=terms)\n",
    "X_wrong_dtm = vec_cn.fit_transform(X_wrong)"
   ]
  },
  {
   "cell_type": "code",
   "execution_count": 119,
   "metadata": {},
   "outputs": [
    {
     "name": "stdout",
     "output_type": "stream",
     "text": [
      "[[ 3  6  7  5  3  6  4  3  6 10]]\n"
     ]
    }
   ],
   "source": [
    "D_wrong = X_wrong_dtm.todense()\n",
    "#np.sum(D_en_wrong_dtm, axis=0)\n",
    "print D_wrong"
   ]
  },
  {
   "cell_type": "code",
   "execution_count": 134,
   "metadata": {},
   "outputs": [
    {
     "data": {
      "image/png": "[encoded data removed]",
      "text/plain": [
       "<matplotlib.figure.Figure at 0x1a20ff7450>"
      ]
     },
     "metadata": {},
     "output_type": "display_data"
    }
   ],
   "source": [
    "tf_cn = np.array(np.sum(D_cn, axis=0))[0]\n",
    "tf_en = np.array(np.sum(D_en, axis=0))[0]\n",
    "tf_wrong = np.array(np.sum(D_wrong, axis=0))[0]\n",
    "\n",
    "fig, ax = plt.subplots()\n",
    "ax.barh(np.arange(0,40,4), tf_cn*clf.coef_[0], 1, label='CHN')\n",
    "ax.barh(np.arange(0,40,4)+1, tf_en*clf.coef_[0], 1, label='ENS')\n",
    "ax.barh(np.arange(0,40,4)+2, tf_wrong*clf.coef_[0], 1, label='SHOULD HAVE BEEN ENS')\n",
    "\n",
    "plt.yticks(np.arange(0,40,4), term_coef)\n",
    "ax.legend(bbox_to_anchor=(1, 1.03))\n",
    "fig.show()\n",
    "#ax[0].barh(range(10), tf_cn)\n",
    "#ax[1].barh(range(10), tf_en)"
   ]
  },
  {
   "cell_type": "code",
   "execution_count": 124,
   "metadata": {},
   "outputs": [
    {
     "name": "stdout",
     "output_type": "stream",
     "text": [
      "Essay id_5's Probablity of being CHN:  0.799624017321\n"
     ]
    }
   ],
   "source": [
    "print 'Essay id_5\\'s Probablity of being CHN: ', clf.predict_proba(X_wrong_dtm)[0][1]"
   ]
  },
  {
   "cell_type": "markdown",
   "metadata": {
    "collapsed": true
   },
   "source": [
    "**Essay id_5 was classified as CHN because its term frequencies has greater similarities with general term frequency trends of Chinese essays**"
   ]
  },
  {
   "cell_type": "markdown",
   "metadata": {},
   "source": [
    "## The final conclusion is that for this specific corpus, term frequency is not a reliable feature for classifiying the native language of a writing, despite the fact that sometimes the model will produce high accuracy score on BOTH training and testing sets"
   ]
  },
  {
   "cell_type": "markdown",
   "metadata": {
    "collapsed": true
   },
   "source": [
    "## Now increase the data volume"
   ]
  },
  {
   "cell_type": "code",
   "execution_count": 152,
   "metadata": {},
   "outputs": [
    {
     "name": "stdout",
     "output_type": "stream",
     "text": [
      "209\n",
      "0.521531100478\n",
      "0.541095890411\n",
      "0.920634920635\n"
     ]
    }
   ],
   "source": [
    "root = 'data/pilot'\n",
    "\n",
    "df_orig2 = pwk.load_data(root, 1, 'CHN', 'ENS')\n",
    "df_orig2.head(1)\n",
    "df_2 = df_orig2.drop('path', axis=1)\n",
    "pd.set_option('display.max_colwidth', -1)\n",
    "\n",
    "print sum(df_2['label']=='CHN')*1./df_2.shape[0]\n",
    "\n",
    "X2 = df_2['essay_content']\n",
    "y2 = df_2['target']\n",
    "X2_train, X2_test, y2_train, y2_test = train_test_split(X2, y2, train_size=0.7)\n",
    "\n",
    "print sum(y2_train==1)*1./len(y2_train)\n",
    "\n",
    "vectorizer2 = CountVectorizer(lowercase=True, max_features=200, ngram_range=(3,3))\n",
    "X2_train_dtm = vectorizer2.fit_transform(X2_train)\n",
    "X2_test_dtm = vectorizer2.transform(X2_test)\n",
    "\n",
    "terms2 = np.array(vectorizer2.get_feature_names())#[-5:]\n",
    "\n",
    "clf2 = LogisticRegression()\n",
    "#clf.fit(X_train_dtm[120:140], y_train[120:140])\n",
    "clf2.fit(X2_train_dtm, y2_train)\n",
    "y2_pred = clf2.predict(X2_test_dtm)\n",
    "\n",
    "print accuracy_score(y2_test, y2_pred)"
   ]
  },
  {
   "cell_type": "markdown",
   "metadata": {},
   "source": [
    "**Top 15 terms for classifying a document as Chinese**"
   ]
  },
  {
   "cell_type": "code",
   "execution_count": 153,
   "metadata": {},
   "outputs": [
    {
     "data": {
      "text/plain": [
       "array([u'doing part time', u'more and more', u'in my opinion',\n",
       "       u'taking part time', u'part time job', u'for us to',\n",
       "       u'the most important', u'nowadays more and', u'the part time',\n",
       "       u'for college students', u'our college students', u'some part time',\n",
       "       u'time job we', u'the college students', u'do part time'], \n",
       "      dtype='<U24')"
      ]
     },
     "execution_count": 153,
     "metadata": {},
     "output_type": "execute_result"
    }
   ],
   "source": [
    "terms2[np.argsort(clf2.coef_[0])[::-1][:15]]"
   ]
  },
  {
   "cell_type": "markdown",
   "metadata": {},
   "source": [
    "**Top 15 terms for classifying a document as Native Speaker**"
   ]
  },
  {
   "cell_type": "code",
   "execution_count": 154,
   "metadata": {},
   "outputs": [
    {
     "data": {
      "text/plain": [
       "array([u'be able to', u'that it is', u'do not have', u'time job the',\n",
       "       u'not have to', u'in order to', u'part time work', u'full time job',\n",
       "       u'the real world', u'on their studies', u'as well as',\n",
       "       u'to worry about', u'value of money', u'agree with this',\n",
       "       u'second hand smoke'], \n",
       "      dtype='<U24')"
      ]
     },
     "execution_count": 154,
     "metadata": {},
     "output_type": "execute_result"
    }
   ],
   "source": [
    "terms2[np.argsort(clf2.coef_[0])[:15]]"
   ]
  },
  {
   "cell_type": "code",
   "execution_count": 37,
   "metadata": {
    "collapsed": true
   },
   "outputs": [],
   "source": [
    "#terms = array([u'and', u'for', u'have', u'is', u'it', u'part', u'that', u'the', u'time', u'to'], "
   ]
  },
  {
   "cell_type": "markdown",
   "metadata": {},
   "source": [
    "## Here using more documents from each class, and trigram terms, the top-15 \"favorite terms\" for Chinese writers and Native English writers are pretty different. As shown above, Chinese students tend to over use the term from the essay topic as their effort to keep the text content relevant, and they over use them due to limited vocabularies. In contrast, native speakers has a much wider range of frequent phrases to use."
   ]
  },
  {
   "cell_type": "code",
   "execution_count": null,
   "metadata": {
    "collapsed": true
   },
   "outputs": [],
   "source": []
  }
 ],
 "metadata": {
  "kernelspec": {
   "display_name": "Python 2",
   "language": "python",
   "name": "python2"
  },
  "language_info": {
   "codemirror_mode": {
    "name": "ipython",
    "version": 2
   },
   "file_extension": ".py",
   "mimetype": "text/x-python",
   "name": "python",
   "nbconvert_exporter": "python",
   "pygments_lexer": "ipython2",
   "version": "2.7.13"
  }
 },
 "nbformat": 4,
 "nbformat_minor": 2
}
