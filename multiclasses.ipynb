{
 "cells": [
  {
   "cell_type": "code",
   "execution_count": 1,
   "metadata": {
    "collapsed": true
   },
   "outputs": [],
   "source": [
    "import pandas as pd\n",
    "import numpy as np\n",
    "import prework as pwk\n",
    "import string\n",
    "from time import time\n",
    "\n",
    "from sklearn.feature_extraction.text import TfidfVectorizer\n",
    "from sklearn.cross_validation import train_test_split, cross_val_score\n",
    "from sklearn.feature_extraction.text import TfidfTransformer, CountVectorizer\n",
    "from sklearn.linear_model import LogisticRegression\n",
    "from sklearn.naive_bayes import MultinomialNB\n",
    "from sklearn.ensemble import RandomForestClassifier\n",
    "from sklearn.svm import LinearSVC\n",
    "from sklearn.grid_search import GridSearchCV\n",
    "from sklearn.pipeline import Pipeline\n",
    "from sklearn.metrics import recall_score, accuracy_score, precision_score, roc_auc_score\n",
    "from nltk.stem.snowball import SnowballStemmer\n",
    "from nltk.stem.wordnet import WordNetLemmatizer\n",
    "from gensim.models.doc2vec import LabeledSentence, Doc2Vec\n",
    "from collections import Counter\n",
    "\n",
    "import matplotlib.pyplot as plt\n",
    "%matplotlib inline"
   ]
  },
  {
   "cell_type": "code",
   "execution_count": 2,
   "metadata": {
    "collapsed": true
   },
   "outputs": [],
   "source": [
    "import spacy\n",
    "spc_nlp = spacy.load('en')"
   ]
  },
  {
   "cell_type": "code",
   "execution_count": 3,
   "metadata": {
    "collapsed": true
   },
   "outputs": [],
   "source": [
    "root = 'data/ICNALE/Unmerged_classified'\n",
    "#root = 'data/pilot3'"
   ]
  },
  {
   "cell_type": "code",
   "execution_count": 4,
   "metadata": {},
   "outputs": [
    {
     "name": "stdout",
     "output_type": "stream",
     "text": [
      "5600\n"
     ]
    },
    {
     "data": {
      "text/html": [
       "<div>\n",
       "<table border=\"1\" class=\"dataframe\">\n",
       "  <thead>\n",
       "    <tr style=\"text-align: right;\">\n",
       "      <th></th>\n",
       "      <th>doc_id</th>\n",
       "      <th>path</th>\n",
       "      <th>author_code</th>\n",
       "      <th>essay_content</th>\n",
       "      <th>label</th>\n",
       "    </tr>\n",
       "  </thead>\n",
       "  <tbody>\n",
       "    <tr>\n",
       "      <th>0</th>\n",
       "      <td>1</td>\n",
       "      <td>data/ICNALE/Unmerged_classified/ICNALE_W_CHN_A...</td>\n",
       "      <td>W_CHN_PTJ0_021_A2_0.txt</td>\n",
       "      <td>﻿I agree that it is important for college stud...</td>\n",
       "      <td>CHN</td>\n",
       "    </tr>\n",
       "  </tbody>\n",
       "</table>\n",
       "</div>"
      ],
      "text/plain": [
       "   doc_id                                               path  \\\n",
       "0       1  data/ICNALE/Unmerged_classified/ICNALE_W_CHN_A...   \n",
       "\n",
       "               author_code                                      essay_content  \\\n",
       "0  W_CHN_PTJ0_021_A2_0.txt  ﻿I agree that it is important for college stud...   \n",
       "\n",
       "  label  \n",
       "0   CHN  "
      ]
     },
     "execution_count": 4,
     "metadata": {},
     "output_type": "execute_result"
    }
   ],
   "source": [
    "df_orig = pwk.load_data_multi(root)\n",
    "df_orig.head(1)"
   ]
  },
  {
   "cell_type": "code",
   "execution_count": 180,
   "metadata": {
    "collapsed": true
   },
   "outputs": [],
   "source": [
    "df_orig['topic'] = df_orig['author_code'].apply(lambda x: x[6:9])"
   ]
  },
  {
   "cell_type": "code",
   "execution_count": 185,
   "metadata": {},
   "outputs": [
    {
     "name": "stdout",
     "output_type": "stream",
     "text": [
      "0.5\n",
      "0.5\n",
      "0.5\n",
      "0.5\n",
      "0.5\n",
      "0.5\n",
      "0.5\n",
      "0.5\n",
      "0.5\n"
     ]
    }
   ],
   "source": [
    "for c in countries:\n",
    "    print df_orig[(df_orig['label']==c)&(df_orig['topic']=='SMK')].shape[0]*1./df_orig[(df_orig['label']==c)].shape[0]"
   ]
  },
  {
   "cell_type": "code",
   "execution_count": 5,
   "metadata": {
    "collapsed": true
   },
   "outputs": [],
   "source": [
    "cond = (df_orig['label']=='HKG')|(df_orig['label']=='TWN')\n",
    "df_0 = df_orig.drop(df_orig[cond].index, axis=0)"
   ]
  },
  {
   "cell_type": "code",
   "execution_count": 6,
   "metadata": {
    "collapsed": true
   },
   "outputs": [],
   "source": [
    "countries = list(df_0.groupby('label').size().index)\n",
    "sample_count = df_0.groupby('label').size().values"
   ]
  },
  {
   "cell_type": "code",
   "execution_count": 7,
   "metadata": {},
   "outputs": [
    {
     "data": {
      "text/plain": [
       "['CHN', 'ENS', 'IDN', 'JPN', 'KOR', 'PAK', 'PHL', 'SIN', 'THA']"
      ]
     },
     "execution_count": 7,
     "metadata": {},
     "output_type": "execute_result"
    }
   ],
   "source": [
    "countries"
   ]
  },
  {
   "cell_type": "code",
   "execution_count": 274,
   "metadata": {},
   "outputs": [
    {
     "data": {
      "image/png": "[encoded data removed]",
      "text/plain": [
       "<matplotlib.figure.Figure at 0x1a1acaef90>"
      ]
     },
     "metadata": {},
     "output_type": "display_data"
    }
   ],
   "source": [
    "fig, ax = plt.subplots()\n",
    "ax.bar(range(len(countries)), sample_count)\n",
    "#ax.xticks = countries\n",
    "plt.xticks(range(len(countries)), countries)\n",
    "#fig.set_size_inches(18.5, 10.5, forward=True)\n",
    "fig.show()"
   ]
  },
  {
   "cell_type": "markdown",
   "metadata": {},
   "source": [
    "**-**"
   ]
  },
  {
   "cell_type": "markdown",
   "metadata": {},
   "source": [
    "## Explore ENS-XXX tfidf and logistic regression"
   ]
  },
  {
   "cell_type": "code",
   "execution_count": 237,
   "metadata": {
    "collapsed": true
   },
   "outputs": [],
   "source": [
    "#cond = df_0['topic']=='SMK'\n",
    "#df_0.drop(df_0[cond].index, axis=0, inplace=True)"
   ]
  },
  {
   "cell_type": "code",
   "execution_count": 275,
   "metadata": {},
   "outputs": [
    {
     "data": {
      "text/plain": [
       "(5000, 6)"
      ]
     },
     "execution_count": 275,
     "metadata": {},
     "output_type": "execute_result"
    }
   ],
   "source": [
    "df_0.shape"
   ]
  },
  {
   "cell_type": "code",
   "execution_count": 457,
   "metadata": {
    "collapsed": true
   },
   "outputs": [],
   "source": [
    "#X = df_0['essay_content']\n",
    "#y = df_0['label']\n",
    "X = df_0[(df_0['label']=='ENS')|(df_0['label']=='PHL')]['essay_content']\n",
    "#X = df_0[(df_0['label']=='ENS')|(df_0['label']=='CHN')][['topic','label','essay_content']]\n",
    "y = df_0[(df_0['label']=='ENS')|(df_0['label']=='PHL')]['label']\n",
    "X_train, X_test, y_train, y_test = train_test_split(X, y, train_size=0.6)"
   ]
  },
  {
   "cell_type": "code",
   "execution_count": 458,
   "metadata": {},
   "outputs": [
    {
     "data": {
      "text/plain": [
       "(800,)"
      ]
     },
     "execution_count": 458,
     "metadata": {},
     "output_type": "execute_result"
    }
   ],
   "source": [
    "X.shape"
   ]
  },
  {
   "cell_type": "code",
   "execution_count": 540,
   "metadata": {
    "collapsed": true
   },
   "outputs": [],
   "source": [
    "vectorizer = TfidfVectorizer(lowercase=True, max_features=109)\n",
    "X_train_dtm = vectorizer.fit_transform(X_train)\n",
    "X_test_dtm = vectorizer.transform(X_test)"
   ]
  },
  {
   "cell_type": "code",
   "execution_count": 541,
   "metadata": {},
   "outputs": [
    {
     "data": {
      "text/plain": [
       "(480, 109)"
      ]
     },
     "execution_count": 541,
     "metadata": {},
     "output_type": "execute_result"
    }
   ],
   "source": [
    "X_train_dtm.shape"
   ]
  },
  {
   "cell_type": "code",
   "execution_count": 542,
   "metadata": {
    "collapsed": true
   },
   "outputs": [],
   "source": [
    "#clf = LogisticRegression(penalty='l2', C=0.8)\n",
    "clf = LogisticRegression()\n",
    "#clf.fit(X_train_dtm[120:140], y_train[120:140])\n",
    "clf.fit(X_train_dtm, y_train)\n",
    "y_pred = clf.predict(X_test_dtm)"
   ]
  },
  {
   "cell_type": "code",
   "execution_count": 543,
   "metadata": {
    "collapsed": true
   },
   "outputs": [],
   "source": [
    "vocab = np.array(vectorizer.get_feature_names())"
   ]
  },
  {
   "cell_type": "code",
   "execution_count": 544,
   "metadata": {},
   "outputs": [
    {
     "data": {
      "text/plain": [
       "array([ 2.18115115,  1.76086047,  1.48847138,  1.31800907,  1.24729759,\n",
       "        1.15171017,  1.1232396 ,  1.09134445,  1.07075511,  1.03397944,\n",
       "        1.02444455,  1.00927477,  1.00879661,  1.00334417,  0.99025103])"
      ]
     },
     "execution_count": 544,
     "metadata": {},
     "output_type": "execute_result"
    }
   ],
   "source": [
    "np.sort(clf.coef_[0])[::-1][:15]"
   ]
  },
  {
   "cell_type": "markdown",
   "metadata": {},
   "source": [
    "### So when max_feature=108, 'japan' did not show up, but when it was turned to 109, 'japan' became the feature with highest coefficient"
   ]
  },
  {
   "cell_type": "code",
   "execution_count": 546,
   "metadata": {},
   "outputs": [
    {
     "data": {
      "text/plain": [
       "array([u'japan', u'that', u'and', u'think', u'to', u'was', u'at', u'with',\n",
       "       u'many', u'have', u'do', u'work', u'this', u'so', u'would'], \n",
       "      dtype='<U11')"
      ]
     },
     "execution_count": 546,
     "metadata": {},
     "output_type": "execute_result"
    }
   ],
   "source": [
    "vocab[np.argsort(clf.coef_[0])[::-1][:15]]"
   ]
  },
  {
   "cell_type": "code",
   "execution_count": 547,
   "metadata": {},
   "outputs": [
    {
     "data": {
      "text/plain": [
       "0.87812500000000004"
      ]
     },
     "execution_count": 547,
     "metadata": {},
     "output_type": "execute_result"
    }
   ],
   "source": [
    "accuracy_score(y_test, y_pred)"
   ]
  },
  {
   "cell_type": "code",
   "execution_count": 560,
   "metadata": {
    "collapsed": true
   },
   "outputs": [],
   "source": [
    "D = X_train_dtm.todense()[y_train=='ENS']"
   ]
  },
  {
   "cell_type": "code",
   "execution_count": 561,
   "metadata": {},
   "outputs": [
    {
     "data": {
      "text/plain": [
       "array([   0.        ,   55.88969878,   73.91491239,   82.03819435,\n",
       "        107.15628267,    0.        ,   21.15305141,   31.35357162,\n",
       "         11.69433431,   46.37643388,   29.69743493,    0.        ,\n",
       "          9.65329582,   32.67401464,    0.        ,   30.90057106,\n",
       "         13.94751146,   15.31532843,    9.3372252 ,   53.42426178,\n",
       "         38.68365426,    0.        ,    0.        ,   10.23884821,\n",
       "          0.        ,    8.9568844 ,   60.78136711,   36.83446964,\n",
       "         18.96996235,   35.91849325,   40.5262032 ,    0.        ,\n",
       "          0.        ,    0.        ,    0.        ,   40.7334952 ,\n",
       "          0.        ,   11.23941973,   28.39915641,    0.        ,\n",
       "         14.8275953 ,   15.67925371,    0.        ,   68.00519243,\n",
       "         10.58537742,   41.60591958,   15.06701076,    0.        ,\n",
       "         15.36611937,   71.75975171,   14.41715367,   12.98838004,\n",
       "         30.71675322,    0.        ,   59.45883419,   14.73418153,\n",
       "         80.6332614 ,   30.73223873,   11.49148648,    0.        ,\n",
       "         26.48429347,    0.        ,   13.81467156,    0.        ,\n",
       "          0.        ,   55.05141541,   59.50354098,    0.        ,\n",
       "         25.49069219,   45.06640834,   57.4574324 ,    0.        ,\n",
       "         44.7653526 ,    0.        ,   32.12831435,   45.87573263,\n",
       "         43.45873507,    8.23563088,    0.        ,    0.        ,\n",
       "          0.        ,    0.        ,   30.22841432,   13.39390677,\n",
       "        128.79886845,   63.66207351,   15.67484189,    0.        ,\n",
       "         60.92861596,   31.7020327 ,    0.        ,   34.05655059,\n",
       "         24.81569896,   64.58971385,    0.        ,   29.00933428,\n",
       "          8.68993543,    9.63175786,   15.74383723,   12.81275987,\n",
       "         50.95979071,   25.49069219,    0.        ,   93.63598973,\n",
       "          0.        ,    0.        ,   97.70404526,   15.41729951,\n",
       "         14.53052153])"
      ]
     },
     "execution_count": 561,
     "metadata": {},
     "output_type": "execute_result"
    }
   ],
   "source": [
    "np.array(np.sum(D, axis=0))[0][np.argsort(clf.coef_)[::-1][0][:]]"
   ]
  },
  {
   "cell_type": "code",
   "execution_count": 558,
   "metadata": {},
   "outputs": [
    {
     "name": "stderr",
     "output_type": "stream",
     "text": [
      "/Library/Python/2.7/site-packages/numpy/matrixlib/defmatrix.py:318: FutureWarning: in the future, boolean array-likes will be handled as a boolean array index\n",
      "  out = N.ndarray.__getitem__(self, index)\n"
     ]
    }
   ],
   "source": [
    "D = X_train_dtm.todense()[y_train=='PHL']"
   ]
  },
  {
   "cell_type": "code",
   "execution_count": 559,
   "metadata": {},
   "outputs": [
    {
     "data": {
      "text/plain": [
       "array([   0.        ,   56.05868179,   75.82365455,   83.26531416,\n",
       "        111.96496328,    0.        ,   19.4608073 ,   32.32237781,\n",
       "         12.71123295,   50.40916726,   32.27982057,    0.        ,\n",
       "          8.88103215,   35.5152333 ,    0.        ,   30.99399921,\n",
       "         15.16033855,   16.64709612,    8.59024718,   58.06984976,\n",
       "         39.87895553,    0.        ,    0.        ,    9.41974035,\n",
       "          0.        ,    9.73574392,   61.52923403,   40.037467  ,\n",
       "         20.61952429,   33.04501379,   44.05022087,    0.        ,\n",
       "          0.        ,    0.        ,    0.        ,   40.85665329,\n",
       "          0.        ,   12.21676058,   30.86864828,    0.        ,\n",
       "         16.11695142,   17.04266708,    0.        ,   65.94502923,\n",
       "         11.50584502,   39.99988919,   16.37718561,    0.        ,\n",
       "         16.70230366,   69.98360333,   15.6708192 ,   11.94930963,\n",
       "         29.53105562,    0.        ,   62.12707292,   16.01541471,\n",
       "         74.18260049,   33.40460732,   12.49074617,    0.        ,\n",
       "         26.56436897,    0.        ,   12.70949783,    0.        ,\n",
       "          0.        ,   59.83849501,   54.7432577 ,    0.        ,\n",
       "         23.45143682,   42.7037731 ,   62.45373087,    0.        ,\n",
       "         44.90070105,    0.        ,   34.92208081,   48.31968071,\n",
       "         39.98203627,    8.9517727 ,    0.        ,    0.        ,\n",
       "          0.        ,    0.        ,   27.81014117,   14.55859432,\n",
       "        122.98326001,   69.19790599,   15.72223492,    0.        ,\n",
       "         59.42055246,   29.16587008,    0.        ,   31.33202654,\n",
       "         26.97358582,   70.20621071,    0.        ,   29.90570497,\n",
       "          7.9947406 ,    8.86121724,   14.48433025,   13.9269129 ,\n",
       "         46.88300746,   23.45143682,    0.        ,   86.14511055,\n",
       "          0.        ,    0.        ,   93.35339028,   16.75793425,\n",
       "         13.36807981])"
      ]
     },
     "execution_count": 559,
     "metadata": {},
     "output_type": "execute_result"
    }
   ],
   "source": [
    "np.array(np.sum(D, axis=0))[0][np.argsort(clf.coef_)[::-1][0][:]]"
   ]
  },
  {
   "cell_type": "code",
   "execution_count": 626,
   "metadata": {
    "collapsed": true
   },
   "outputs": [],
   "source": [
    "#X = df_0['essay_content']\n",
    "#y = df_0['label']\n",
    "X = df_0[(df_0['label']=='ENS')|(df_0['label']=='CHN')]['essay_content']\n",
    "#X = df_0[(df_0['label']=='ENS')|(df_0['label']=='CHN')][['topic','label','essay_content']]\n",
    "y = df_0[(df_0['label']=='ENS')|(df_0['label']=='CHN')]['label']\n",
    "X_train, X_test, y_train, y_test = train_test_split(X, y, train_size=0.6)"
   ]
  },
  {
   "cell_type": "code",
   "execution_count": 627,
   "metadata": {
    "collapsed": true
   },
   "outputs": [],
   "source": [
    "vectorizer = CountVectorizer(lowercase=True, max_features=30)\n",
    "X_train_dtm = vectorizer.fit_transform(X_train)\n",
    "X_test_dtm = vectorizer.transform(X_test)\n",
    "clf = LogisticRegression()\n",
    "#clf.fit(X_train_dtm[120:140], y_train[120:140])\n",
    "clf.fit(X_train_dtm, y_train)\n",
    "y_pred = clf.predict(X_test_dtm)"
   ]
  },
  {
   "cell_type": "code",
   "execution_count": 628,
   "metadata": {},
   "outputs": [
    {
     "data": {
      "text/plain": [
       "0.9145833333333333"
      ]
     },
     "execution_count": 628,
     "metadata": {},
     "output_type": "execute_result"
    }
   ],
   "source": [
    "accuracy_score(y_test, y_pred)"
   ]
  },
  {
   "cell_type": "code",
   "execution_count": 629,
   "metadata": {},
   "outputs": [
    {
     "name": "stdout",
     "output_type": "stream",
     "text": [
      "[ 0.79235975  0.59077439  0.33157387  0.26595186  0.2368374   0.22291331\n",
      "  0.19714045  0.19497698  0.18059626  0.1638692   0.10053051  0.09731849\n",
      "  0.02451165 -0.02388487 -0.09135788]\n",
      "[u'we' u'part' u'more' u'can' u'people' u'smoking' u'it' u'all' u'the'\n",
      " u'will' u'college' u'should' u'students' u'are' u'they']\n"
     ]
    }
   ],
   "source": [
    "vocab = np.array(vectorizer.get_feature_names())\n",
    "print np.sort(clf.coef_[0])[::-1][:15]\n",
    "print vocab[np.argsort(clf.coef_)[::-1][0][:15]]"
   ]
  },
  {
   "cell_type": "code",
   "execution_count": 630,
   "metadata": {},
   "outputs": [
    {
     "name": "stdout",
     "output_type": "stream",
     "text": [
      "[[-0.42081373  0.59077439 -0.14148887 -0.02388487  0.1638692  -0.69220615\n",
      "  -0.21262142  0.02451165  0.33157387  0.09731849 -0.09135788 -0.43267957\n",
      "   0.19497698 -0.87356237  0.2368374   0.18059626 -0.87689769 -0.61087598\n",
      "   0.26595186 -0.2088983  -0.47646001 -0.16983018  0.79235975 -0.24711628\n",
      "   0.10053051 -0.13499459  0.19714045  0.22291331 -0.95181798 -0.22969369]]\n"
     ]
    }
   ],
   "source": [
    "print clf.coef_"
   ]
  },
  {
   "cell_type": "code",
   "execution_count": 633,
   "metadata": {},
   "outputs": [
    {
     "data": {
      "text/plain": [
       "array([3120, 2400,  720, 2880, 2400, 1920, 2400,    0, 6480, 1680,    0,\n",
       "        240,  240, 1440, 1680, 3840, 2160,    0, 2400,    0,    0, 1680,\n",
       "       1920, 4080, 4560, 1920,  480, 1680, 3840, 2160])"
      ]
     },
     "execution_count": 633,
     "metadata": {},
     "output_type": "execute_result"
    }
   ],
   "source": [
    "D = X_train_dtm.todense()[y_train=='ENS']\n",
    "np.array(np.sum(D, axis=0))[0][np.argsort(clf.coef_)[::-1][0][:]]"
   ]
  },
  {
   "cell_type": "code",
   "execution_count": 634,
   "metadata": {},
   "outputs": [
    {
     "data": {
      "text/plain": [
       "array([6240, 4800, 1440, 3600, 1920,  960, 2640,    0, 7200, 2640,    0,\n",
       "        480,  480,  720, 1200, 3360, 1440,    0, 2640,    0,    0, 1200,\n",
       "       3840, 6000, 5520, 2400,  240, 1920, 4080, 1440])"
      ]
     },
     "execution_count": 634,
     "metadata": {},
     "output_type": "execute_result"
    }
   ],
   "source": [
    "D = X_train_dtm.todense()[y_train=='CHN']\n",
    "np.array(np.sum(D, axis=0))[0][np.argsort(clf.coef_)[::-1][0][:]]"
   ]
  },
  {
   "cell_type": "code",
   "execution_count": 635,
   "metadata": {},
   "outputs": [
    {
     "data": {
      "text/plain": [
       "matrix([[  0.        ,   5.66666667,   1.        ,   2.        ,\n",
       "           0.        ,   5.        ,   0.        ,   0.        ,\n",
       "           2.66666667,   3.66666667,   4.66666667,   3.66666667,\n",
       "           5.33333333,   2.        ,   3.33333333,   1.66666667,\n",
       "           6.66666667,   2.66666667,   0.33333333,   0.66666667,\n",
       "           1.33333333,   0.66666667,   2.        ,  10.        ,\n",
       "           0.        ,   1.66666667,   8.33333333,   7.66666667,\n",
       "           8.66666667,   3.66666667]])"
      ]
     },
     "execution_count": 635,
     "metadata": {},
     "output_type": "execute_result"
    }
   ],
   "source": [
    "np.mean(D, axis=0)"
   ]
  },
  {
   "cell_type": "code",
   "execution_count": 573,
   "metadata": {},
   "outputs": [
    {
     "data": {
      "text/plain": [
       "array([u'and', u'are', u'as', u'be', u'can', u'college', u'for', u'have',\n",
       "       u'in', u'is', u'it', u'job', u'more', u'not', u'of', u'part',\n",
       "       u'people', u'restaurants', u'should', u'smoking', u'students',\n",
       "       u'that', u'the', u'their', u'they', u'time', u'to', u'we', u'will',\n",
       "       u'you'], \n",
       "      dtype='<U11')"
      ]
     },
     "execution_count": 573,
     "metadata": {},
     "output_type": "execute_result"
    }
   ],
   "source": [
    "vocab"
   ]
  },
  {
   "cell_type": "markdown",
   "metadata": {
    "collapsed": true
   },
   "source": [
    "**--**"
   ]
  },
  {
   "cell_type": "markdown",
   "metadata": {
    "collapsed": true
   },
   "source": [
    "## Simple Models on tfidf"
   ]
  },
  {
   "cell_type": "code",
   "execution_count": 261,
   "metadata": {},
   "outputs": [
    {
     "name": "stdout",
     "output_type": "stream",
     "text": [
      "[ 0.93150685  0.91780822  0.91666667  0.95774648  0.92957746]\n"
     ]
    }
   ],
   "source": [
    "pipeline_lgr = Pipeline([\n",
    "    ('vect', TfidfVectorizer(lowercase=True, max_features=50)),\n",
    "    ('clf', LogisticRegression())\n",
    "])\n",
    "scores = cross_val_score(pipeline_lgr, X_train, y_train, cv=5)\n",
    "print scores"
   ]
  },
  {
   "cell_type": "code",
   "execution_count": 30,
   "metadata": {},
   "outputs": [
    {
     "name": "stdout",
     "output_type": "stream",
     "text": [
      "[ 0.96875     0.95833333  0.95833333  1.          1.        ]\n"
     ]
    }
   ],
   "source": [
    "pipeline_mnb = Pipeline([\n",
    "    ('vect', CountVectorizer(lowercase=True, max_features=900)),\n",
    "    ('clf', MultinomialNB())\n",
    "])\n",
    "scores = cross_val_score(pipeline_mnb, X_train, y_train, cv=5)\n",
    "print scores"
   ]
  },
  {
   "cell_type": "code",
   "execution_count": 55,
   "metadata": {},
   "outputs": [
    {
     "name": "stdout",
     "output_type": "stream",
     "text": [
      "[ 0.70178926  0.71115538  0.68463074  0.68072289  0.72782258]\n"
     ]
    }
   ],
   "source": [
    "pipeline_rf = Pipeline([\n",
    "    ('vect', TfidfVectorizer(lowercase=True, max_features=900)),\n",
    "    ('clf', RandomForestClassifier(n_estimators=100))\n",
    "])\n",
    "scores = cross_val_score(pipeline_rf, X_train, y_train, cv=5)\n",
    "print scores"
   ]
  },
  {
   "cell_type": "code",
   "execution_count": 60,
   "metadata": {},
   "outputs": [
    {
     "name": "stdout",
     "output_type": "stream",
     "text": [
      "[ 0.87077535  0.86454183  0.86826347  0.86746988  0.89314516]\n"
     ]
    }
   ],
   "source": [
    "pipeline_svm = Pipeline([\n",
    "    ('vect', TfidfVectorizer(lowercase=True, max_features=900)),\n",
    "    ('clf', LinearSVC())\n",
    "])\n",
    "scores = cross_val_score(pipeline_svm, X_train, y_train, cv=5)\n",
    "print scores"
   ]
  },
  {
   "cell_type": "markdown",
   "metadata": {},
   "source": [
    "### total sentence count"
   ]
  },
  {
   "cell_type": "code",
   "execution_count": 30,
   "metadata": {},
   "outputs": [
    {
     "name": "stdout",
     "output_type": "stream",
     "text": [
      "407.460764885\n"
     ]
    }
   ],
   "source": [
    "start = time()\n",
    "total_sents = df_orig['essay_content'].apply(lambda x: len([s for s in spc_nlp(x.decode('utf-8')).sents]))\n",
    "end = time()\n",
    "duration = end - start\n",
    "print duration"
   ]
  },
  {
   "cell_type": "code",
   "execution_count": 101,
   "metadata": {},
   "outputs": [
    {
     "data": {
      "text/plain": [
       "(array([ 0.00107143,  0.00938776,  0.06045918,  0.07479592,  0.08913265,\n",
       "         0.02954082,  0.01617347,  0.00321429,  0.00158163,  0.00035714]),\n",
       " array([  1. ,   4.5,   8. ,  11.5,  15. ,  18.5,  22. ,  25.5,  29. ,\n",
       "         32.5,  36. ]),\n",
       " <a list of 10 Patch objects>)"
      ]
     },
     "execution_count": 101,
     "metadata": {},
     "output_type": "execute_result"
    },
    {
     "data": {
      "image/png": "[encoded data removed]",
      "text/plain": [
       "<matplotlib.figure.Figure at 0x1a19abf190>"
      ]
     },
     "metadata": {},
     "output_type": "display_data"
    }
   ],
   "source": [
    "plt.hist(total_sents, bins = 10, normed=1)"
   ]
  },
  {
   "cell_type": "code",
   "execution_count": 102,
   "metadata": {},
   "outputs": [
    {
     "data": {
      "text/plain": [
       "14.0"
      ]
     },
     "execution_count": 102,
     "metadata": {},
     "output_type": "execute_result"
    }
   ],
   "source": [
    "np.median(total_sents)"
   ]
  },
  {
   "cell_type": "markdown",
   "metadata": {},
   "source": [
    "## Generate POS tag and Arch body"
   ]
  },
  {
   "cell_type": "code",
   "execution_count": 11,
   "metadata": {
    "collapsed": true
   },
   "outputs": [],
   "source": [
    "df_0['DT_pos'] = df_0['essay_content'].apply(lambda x: [' '.join([token.pos_ for token in spc_nlp(s.text)]) for s in spc_nlp(x.decode('utf-8')).sents])"
   ]
  },
  {
   "cell_type": "code",
   "execution_count": 64,
   "metadata": {
    "collapsed": true
   },
   "outputs": [],
   "source": [
    "#df_0['DT_pos_archs'][0]"
   ]
  },
  {
   "cell_type": "code",
   "execution_count": 23,
   "metadata": {
    "collapsed": true
   },
   "outputs": [],
   "source": [
    "df_0['DT_archs'] = df_0['essay_content'].apply(lambda x: [' '.join([token.dep_ for token in spc_nlp(s.text)]) for s in spc_nlp(x.decode('utf-8')).sents])"
   ]
  },
  {
   "cell_type": "code",
   "execution_count": 41,
   "metadata": {
    "collapsed": true
   },
   "outputs": [],
   "source": [
    "df_0['DT_pos_archs'] = df_0['essay_content'].apply(lambda x: [' '.join([token.pos_+' '+token.dep_ for token in spc_nlp(s.text)]) for s in spc_nlp(x.decode('utf-8')).sents])"
   ]
  },
  {
   "cell_type": "markdown",
   "metadata": {},
   "source": [
    "### Run MNB on pos tfidf"
   ]
  },
  {
   "cell_type": "code",
   "execution_count": 6,
   "metadata": {
    "collapsed": true
   },
   "outputs": [],
   "source": [
    "df_0 = df_test"
   ]
  },
  {
   "cell_type": "code",
   "execution_count": 48,
   "metadata": {
    "collapsed": true
   },
   "outputs": [],
   "source": [
    "df_0['DT_pos_archs_join'] = df_0['DT_pos_archs'].apply(lambda x: ' '.join(x))"
   ]
  },
  {
   "cell_type": "code",
   "execution_count": 32,
   "metadata": {
    "collapsed": true
   },
   "outputs": [],
   "source": [
    "X = df_0['DT_pos_archs_join']\n",
    "y = df_0['label']\n",
    "X_train, X_test, y_train, y_test = train_test_split(X, y, train_size=0.8)"
   ]
  },
  {
   "cell_type": "code",
   "execution_count": 33,
   "metadata": {},
   "outputs": [
    {
     "name": "stdout",
     "output_type": "stream",
     "text": [
      "[ 0.68656716  0.6957606   0.68836045  0.71553885  0.6825596 ]\n"
     ]
    }
   ],
   "source": [
    "pipeline_mnb = Pipeline([\n",
    "    ('vect', CountVectorizer(ngram_range=(4,4))),\n",
    "    ('clf', MultinomialNB())\n",
    "])\n",
    "scores = cross_val_score(pipeline_mnb, X_train, y_train, cv=5)\n",
    "print scores"
   ]
  },
  {
   "cell_type": "code",
   "execution_count": 67,
   "metadata": {
    "collapsed": true
   },
   "outputs": [],
   "source": [
    "#df_0.to_pickle('df_pos_arch.pkl')"
   ]
  },
  {
   "cell_type": "code",
   "execution_count": 8,
   "metadata": {
    "collapsed": true
   },
   "outputs": [],
   "source": [
    "df_0 = pd.read_pickle('df_pos_arch.pkl')"
   ]
  },
  {
   "cell_type": "code",
   "execution_count": 9,
   "metadata": {},
   "outputs": [
    {
     "data": {
      "text/plain": [
       "Index([u'doc_id', u'path', u'author_code', u'essay_content', u'label',\n",
       "       u'DT_pos', u'DT_pos_join', u'DT_archs', u'DT_arch_join',\n",
       "       u'DT_pos_archs', u'DT_pos_archs_join'],\n",
       "      dtype='object')"
      ]
     },
     "execution_count": 9,
     "metadata": {},
     "output_type": "execute_result"
    }
   ],
   "source": [
    "df_0.columns"
   ]
  },
  {
   "cell_type": "code",
   "execution_count": 5,
   "metadata": {},
   "outputs": [
    {
     "data": {
      "text/plain": [
       "(5000, 11)"
      ]
     },
     "execution_count": 5,
     "metadata": {},
     "output_type": "execute_result"
    }
   ],
   "source": [
    "pd.set_option('display.max_colwidth', -1)\n",
    "df_test.shape"
   ]
  },
  {
   "cell_type": "markdown",
   "metadata": {
    "collapsed": true
   },
   "source": [
    "## Test Doc2Vec"
   ]
  },
  {
   "cell_type": "code",
   "execution_count": 43,
   "metadata": {},
   "outputs": [],
   "source": [
    "lmtzr = WordNetLemmatizer()\n",
    "df_0['doc2vec_lm_token'] = df_0['essay_content'].apply(lambda x: [token.lemma_ for token in spc_nlp(x.decode('utf-8')) if token.is_punct==False])\n"
   ]
  },
  {
   "cell_type": "code",
   "execution_count": 12,
   "metadata": {
    "collapsed": true
   },
   "outputs": [],
   "source": [
    "n = 3\n",
    "df_0['DT_insent_arch_ngram'] = df_0['DT_archs'].apply(lambda x: pwk.loop_body(x, n))"
   ]
  },
  {
   "cell_type": "code",
   "execution_count": 39,
   "metadata": {
    "collapsed": true
   },
   "outputs": [],
   "source": [
    "n = 3\n",
    "df_0['DT_insent_pos_ngram'] = df_0['DT_pos'].apply(lambda x: pwk.loop_body(x, n))"
   ]
  },
  {
   "cell_type": "markdown",
   "metadata": {},
   "source": [
    "### Training Doc2Vec model using the learner English corpus"
   ]
  },
  {
   "cell_type": "code",
   "execution_count": 44,
   "metadata": {},
   "outputs": [],
   "source": [
    "df_input = df_0[(df_0['label']=='ENS')|(df_0['label']=='CHN')|(df_0['label']=='JPN')|(df_0['label']=='KOR')]\n",
    "sen = pwk.label_sentences(df_input, 'doc2vec_lm_token')\n",
    "#model = pwk.train_doc2vec_model(sen)\n",
    "model = pwk.train_doc2vec_model(sen, 5, 100)\n",
    "df_d2v = pwk.vectorize_comments(df_input, model, 'vectorized_essay')"
   ]
  },
  {
   "cell_type": "code",
   "execution_count": 55,
   "metadata": {
    "collapsed": true
   },
   "outputs": [],
   "source": [
    "X = df_d2v['vectorized_essay'].T.tolist()\n",
    "y = df_d2v['label']\n",
    "X_train, X_test, y_train, y_test = train_test_split(X, y, train_size=0.6)\n",
    "clf = LogisticRegression()\n",
    "#clf.fit(X_train_dtm[120:140], y_train[120:140])\n",
    "clf.fit(X_train, y_train)\n",
    "y_pred = clf.predict(X_test)"
   ]
  },
  {
   "cell_type": "code",
   "execution_count": 56,
   "metadata": {},
   "outputs": [
    {
     "data": {
      "text/plain": [
       "0.70288461538461533"
      ]
     },
     "execution_count": 56,
     "metadata": {},
     "output_type": "execute_result"
    }
   ],
   "source": [
    "accuracy_score(y_test, y_pred)"
   ]
  },
  {
   "cell_type": "code",
   "execution_count": 57,
   "metadata": {},
   "outputs": [
    {
     "data": {
      "text/plain": [
       "[u'NOUN VERB ADP PRON VERB ADJ ADP NOUN NOUN PART VERB ADV PUNCT NOUN NOUN PUNCT',\n",
       " u'ADV PUNCT DET ADJ NOUN ADP NOUN NOUN VERB VERB DET ADJ PUNCT NOUN NOUN PUNCT',\n",
       " u'DET ADP PRON VERB DET NOUN PUNCT NOUN NOUN VERB VERB PRON PART VERB ADP DET NOUN ADV CCONJ VERB PRON ADJ NOUN PUNCT',\n",
       " u'VERB DET NOUN ADP NOUN ADP NOUN PUNCT ADV PROPN VERB DET NOUN NOUN PUNCT PRON VERB ADP NOUN ADP DET NOUN CCONJ VERB PART VERB DET NOUN NOUN DET NOUN PUNCT',\n",
       " u'ADV VERB ADP ADJ NOUN PUNCT PRON ADV VERB DET ADJ NOUN ADP VERB ADP NOUN PUNCT',\n",
       " u'ADP DET ADJ NOUN PART NOUN PUNCT PRON VERB ADP PRON VERB VERB NOUN PRON VERB ADJ NOUN VERB ADV VERB PUNCT',\n",
       " u'PRON VERB DET NOUN ADJ PRON VERB ADP DET NOUN ADP DET NOUN ADP ADJ ADJ PUNCT NOUN PART VERB ADJ NOUN NOUN DET NOUN VERB PUNCT',\n",
       " u'ADV PUNCT PRON VERB ADJ ADP NOUN NOUN PART VERB DET ADJ PUNCT NOUN NOUN PUNCT',\n",
       " u'ADV PUNCT ADJ NOUN ADV VERB ADV VERB PRON PART VERB ADJ PUNCT NOUN NOUN PUNCT',\n",
       " u'PRON VERB ADJ ADP ADJ NOUN CCONJ NOUN PUNCT',\n",
       " u'ADP ADJ NOUN PUNCT VERB DET ADJ NOUN PUNCT NOUN NOUN VERB ADJ ADP NOUN PUNCT',\n",
       " u'PRON VERB VERB NOUN ADP DET NOUN ADP NOUN PUNCT NOUN NOUN CCONJ VERB DET ADJ ADP PRON PUNCT',\n",
       " u'ADV PUNCT PRON VERB VERB PART VERB NOUN ADP DET ADJ PUNCT NOUN NOUN CCONJ VERB PRON DET ADJ NOUN ADP ADJ NOUN PUNCT']"
      ]
     },
     "execution_count": 57,
     "metadata": {},
     "output_type": "execute_result"
    }
   ],
   "source": [
    "df_0.DT_pos[0]"
   ]
  },
  {
   "cell_type": "code",
   "execution_count": null,
   "metadata": {
    "collapsed": true
   },
   "outputs": [],
   "source": []
  }
 ],
 "metadata": {
  "kernelspec": {
   "display_name": "Python 2",
   "language": "python",
   "name": "python2"
  },
  "language_info": {
   "codemirror_mode": {
    "name": "ipython",
    "version": 2
   },
   "file_extension": ".py",
   "mimetype": "text/x-python",
   "name": "python",
   "nbconvert_exporter": "python",
   "pygments_lexer": "ipython2",
   "version": "2.7.13"
  }
 },
 "nbformat": 4,
 "nbformat_minor": 2
}
