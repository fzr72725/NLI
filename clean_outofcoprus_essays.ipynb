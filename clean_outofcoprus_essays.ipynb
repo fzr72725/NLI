{
 "cells": [
  {
   "cell_type": "code",
   "execution_count": 13,
   "metadata": {
    "collapsed": true
   },
   "outputs": [],
   "source": [
    "import pandas as pd\n",
    "import numpy as np\n",
    "import prework as pwk\n",
    "import string\n",
    "import sys, os, io\n",
    "import re\n",
    "\n",
    "\n",
    "from sklearn.feature_extraction.text import TfidfVectorizer\n",
    "from sklearn.cross_validation import train_test_split, cross_val_score\n",
    "from sklearn.feature_extraction.text import TfidfTransformer, CountVectorizer\n",
    "from sklearn.linear_model import LogisticRegression, SGDClassifier\n",
    "from sklearn.naive_bayes import MultinomialNB\n",
    "from sklearn.grid_search import GridSearchCV\n",
    "from sklearn.ensemble import RandomForestClassifier\n",
    "from sklearn.pipeline import Pipeline\n",
    "from sklearn.metrics import recall_score, accuracy_score, precision_score, roc_auc_score\n",
    "from nltk.stem.snowball import SnowballStemmer\n",
    "from nltk.stem.wordnet import WordNetLemmatizer\n",
    "from gensim.models.doc2vec import LabeledSentence, Doc2Vec, Word2Vec\n",
    "from collections import Counter"
   ]
  },
  {
   "cell_type": "code",
   "execution_count": 188,
   "metadata": {
    "collapsed": true
   },
   "outputs": [],
   "source": [
    "root = 'data/out_of_corpus_test/test'"
   ]
  },
  {
   "cell_type": "code",
   "execution_count": 170,
   "metadata": {},
   "outputs": [],
   "source": [
    "with open(root) as f:\n",
    "    content = f.read()"
   ]
  },
  {
   "cell_type": "code",
   "execution_count": 172,
   "metadata": {},
   "outputs": [],
   "source": [
    "topic= 'Lottery'\n",
    "#re.split('[0-9]+\\r*\\n*\\r*\\n*', content)[1]\n",
    "#content"
   ]
  },
  {
   "cell_type": "code",
   "execution_count": 184,
   "metadata": {},
   "outputs": [
    {
     "name": "stdout",
     "output_type": "stream",
     "text": [
      "34\n"
     ]
    }
   ],
   "source": [
    "pwk.split_mix_essays('data/LOCNESS_all_native/test', 'data/LOCNESS_all_native/final', '<ICLE-BR-SUR-00')"
   ]
  },
  {
   "cell_type": "code",
   "execution_count": 194,
   "metadata": {},
   "outputs": [
    {
     "name": "stdout",
     "output_type": "stream",
     "text": [
      "TECCL00034.txt\n",
      "TECCL00035.txt\n",
      "TECCL00133.txt\n",
      "TECCL00376.txt\n",
      "TECCL00383.txt\n",
      "TECCL00629.txt\n",
      "TECCL01022.txt\n",
      "TECCL01025.txt\n",
      "TECCL01028.txt\n",
      "TECCL01032.txt\n",
      "TECCL01035.txt\n",
      "TECCL01040.txt\n",
      "TECCL01042.txt\n",
      "TECCL01043.txt\n",
      "TECCL01046.txt\n",
      "TECCL01047.txt\n",
      "TECCL01048.txt\n",
      "TECCL01050.txt\n",
      "TECCL01053.txt\n",
      "TECCL01055.txt\n",
      "TECCL01056.txt\n",
      "TECCL01057.txt\n",
      "TECCL01090.txt\n",
      "TECCL01122.txt\n",
      "TECCL01124.txt\n",
      "TECCL01145.txt\n",
      "TECCL01159.txt\n",
      "TECCL01506.txt\n",
      "TECCL01590.txt\n",
      "TECCL01619.txt\n",
      "TECCL01876.txt\n",
      "TECCL01884.txt\n",
      "TECCL01886.txt\n",
      "TECCL02088.txt\n",
      "TECCL02493.txt\n",
      "TECCL02602.txt\n",
      "TECCL02622.txt\n",
      "TECCL02645.txt\n",
      "TECCL02696.txt\n",
      "TECCL02743.txt\n",
      "TECCL02777.txt\n",
      "TECCL02920.txt\n",
      "TECCL03016.txt\n",
      "TECCL03364.txt\n",
      "TECCL03415.txt\n",
      "TECCL03542.txt\n",
      "TECCL03606.txt\n",
      "TECCL03688.txt\n",
      "TECCL03689.txt\n",
      "TECCL03696.txt\n",
      "TECCL03701.txt\n",
      "TECCL04085.txt\n",
      "TECCL04319.txt\n",
      "TECCL04591.txt\n",
      "TECCL04596.txt\n",
      "TECCL04599.txt\n",
      "TECCL04600.txt\n",
      "TECCL04601.txt\n",
      "TECCL04603.txt\n",
      "TECCL04605.txt\n",
      "TECCL04606.txt\n",
      "TECCL04607.txt\n",
      "TECCL04610.txt\n",
      "TECCL04611.txt\n",
      "TECCL04612.txt\n",
      "TECCL04616.txt\n",
      "TECCL04618.txt\n",
      "TECCL04619.txt\n",
      "TECCL04677.txt\n",
      "TECCL05110.txt\n",
      "TECCL05145.txt\n",
      "TECCL05192.txt\n",
      "TECCL05211.txt\n",
      "TECCL05235.txt\n",
      "TECCL05319.txt\n",
      "TECCL05671.txt\n",
      "TECCL05875.txt\n",
      "TECCL05879.txt\n",
      "TECCL05912.txt\n",
      "TECCL06608.txt\n",
      "TECCL06651.txt\n",
      "TECCL06701.txt\n",
      "TECCL06907.txt\n",
      "TECCL07036.txt\n",
      "TECCL07343.txt\n",
      "TECCL07867.txt\n",
      "TECCL07916.txt\n",
      "TECCL09188.txt\n",
      "TECCL09218.txt\n",
      "TECCL09539.txt\n",
      "TECCL09575.txt\n",
      "TECCL09576.txt\n",
      "TECCL09578.txt\n",
      "TECCL09579.txt\n",
      "TECCL09580.txt\n",
      "TECCL09581.txt\n",
      "TECCL09584.txt\n",
      "TECCL09585.txt\n",
      "TECCL09731.txt\n",
      "TECCL09909.txt\n"
     ]
    }
   ],
   "source": [
    "#os.rename(src, dst)\n",
    "all_files = []\n",
    "for path, sub, filen in os.walk(root):\n",
    "        for f in filen:\n",
    "            if f == '.DS_Store':\n",
    "                continue\n",
    "            all_files.append(f)\n",
    "for filename in all_files:\n",
    "    os.rename(root+'/'+filename, root+'/'+'CHN_'+filename)"
   ]
  },
  {
   "cell_type": "code",
   "execution_count": null,
   "metadata": {
    "collapsed": true
   },
   "outputs": [],
   "source": []
  }
 ],
 "metadata": {
  "kernelspec": {
   "display_name": "Python 2",
   "language": "python",
   "name": "python2"
  },
  "language_info": {
   "codemirror_mode": {
    "name": "ipython",
    "version": 2
   },
   "file_extension": ".py",
   "mimetype": "text/x-python",
   "name": "python",
   "nbconvert_exporter": "python",
   "pygments_lexer": "ipython2",
   "version": "2.7.13"
  }
 },
 "nbformat": 4,
 "nbformat_minor": 2
}
