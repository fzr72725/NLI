{
 "cells": [
  {
   "cell_type": "code",
   "execution_count": 2,
   "metadata": {
    "collapsed": true
   },
   "outputs": [],
   "source": [
    "import pandas as pd\n",
    "import numpy as np\n",
    "import prework as pwk\n",
    "import string\n",
    "from time import time\n",
    "\n",
    "from sklearn.feature_extraction.text import TfidfVectorizer\n",
    "from sklearn.cross_validation import train_test_split, cross_val_score\n",
    "from sklearn.feature_extraction.text import TfidfTransformer, CountVectorizer\n",
    "from sklearn.linear_model import LogisticRegression\n",
    "from sklearn.naive_bayes import MultinomialNB\n",
    "from sklearn.ensemble import RandomForestClassifier\n",
    "from sklearn.svm import LinearSVC\n",
    "from sklearn.grid_search import GridSearchCV\n",
    "from sklearn.pipeline import Pipeline\n",
    "from sklearn.metrics import recall_score, accuracy_score, precision_score, roc_auc_score\n",
    "from nltk.stem.snowball import SnowballStemmer\n",
    "from nltk.stem.wordnet import WordNetLemmatizer\n",
    "from gensim.models.doc2vec import LabeledSentence, Doc2Vec\n",
    "from collections import Counter\n",
    "\n",
    "import matplotlib.pyplot as plt\n",
    "%matplotlib inline"
   ]
  },
  {
   "cell_type": "code",
   "execution_count": 3,
   "metadata": {
    "collapsed": true
   },
   "outputs": [],
   "source": [
    "import spacy\n",
    "spc_nlp = spacy.load('en')"
   ]
  },
  {
   "cell_type": "code",
   "execution_count": 4,
   "metadata": {
    "collapsed": true
   },
   "outputs": [],
   "source": [
    "root = 'data/ICNALE/Unmerged_classified'\n",
    "#root = 'data/pilot3'"
   ]
  },
  {
   "cell_type": "code",
   "execution_count": 5,
   "metadata": {},
   "outputs": [
    {
     "name": "stdout",
     "output_type": "stream",
     "text": [
      "5600\n"
     ]
    },
    {
     "data": {
      "text/html": [
       "<div>\n",
       "<table border=\"1\" class=\"dataframe\">\n",
       "  <thead>\n",
       "    <tr style=\"text-align: right;\">\n",
       "      <th></th>\n",
       "      <th>doc_id</th>\n",
       "      <th>path</th>\n",
       "      <th>author_code</th>\n",
       "      <th>essay_content</th>\n",
       "      <th>label</th>\n",
       "    </tr>\n",
       "  </thead>\n",
       "  <tbody>\n",
       "    <tr>\n",
       "      <th>0</th>\n",
       "      <td>1</td>\n",
       "      <td>data/ICNALE/Unmerged_classified/ICNALE_W_CHN_A...</td>\n",
       "      <td>W_CHN_PTJ0_021_A2_0.txt</td>\n",
       "      <td>﻿I agree that it is important for college stud...</td>\n",
       "      <td>CHN</td>\n",
       "    </tr>\n",
       "  </tbody>\n",
       "</table>\n",
       "</div>"
      ],
      "text/plain": [
       "   doc_id                                               path  \\\n",
       "0       1  data/ICNALE/Unmerged_classified/ICNALE_W_CHN_A...   \n",
       "\n",
       "               author_code                                      essay_content  \\\n",
       "0  W_CHN_PTJ0_021_A2_0.txt  ﻿I agree that it is important for college stud...   \n",
       "\n",
       "  label  \n",
       "0   CHN  "
      ]
     },
     "execution_count": 5,
     "metadata": {},
     "output_type": "execute_result"
    }
   ],
   "source": [
    "df_orig = pwk.load_data_multi(root)\n",
    "df_orig.head(1)"
   ]
  },
  {
   "cell_type": "code",
   "execution_count": 6,
   "metadata": {
    "collapsed": true
   },
   "outputs": [],
   "source": [
    "cond = (df_orig['label']=='HKG')|(df_orig['label']=='TWN')\n",
    "df_0 = df_orig.drop(df_orig[cond].index, axis=0)"
   ]
  },
  {
   "cell_type": "code",
   "execution_count": 7,
   "metadata": {
    "collapsed": true
   },
   "outputs": [],
   "source": [
    "countries = list(df_0.groupby('label').size().index)\n",
    "sample_count = df_0.groupby('label').size().values"
   ]
  },
  {
   "cell_type": "code",
   "execution_count": 7,
   "metadata": {},
   "outputs": [
    {
     "data": {
      "text/plain": [
       "['CHN', 'ENS', 'IDN', 'JPN', 'KOR', 'PAK', 'PHL', 'SIN', 'THA']"
      ]
     },
     "execution_count": 7,
     "metadata": {},
     "output_type": "execute_result"
    }
   ],
   "source": [
    "countries"
   ]
  },
  {
   "cell_type": "code",
   "execution_count": 8,
   "metadata": {},
   "outputs": [
    {
     "name": "stderr",
     "output_type": "stream",
     "text": [
      "/Users/ziru/anaconda/lib/python2.7/site-packages/matplotlib/figure.py:403: UserWarning: matplotlib is currently using a non-GUI backend, so cannot show the figure\n",
      "  \"matplotlib is currently using a non-GUI backend, \"\n"
     ]
    },
    {
     "data": {
      "image/png": "[encoded data removed]",
      "text/plain": [
       "<matplotlib.figure.Figure at 0x107d2d910>"
      ]
     },
     "metadata": {},
     "output_type": "display_data"
    }
   ],
   "source": [
    "fig, ax = plt.subplots()\n",
    "ax.bar(range(len(countries)), sample_count)\n",
    "#ax.xticks = countries\n",
    "plt.xticks(range(len(countries)), countries)\n",
    "#fig.set_size_inches(18.5, 10.5, forward=True)\n",
    "fig.show()"
   ]
  },
  {
   "cell_type": "code",
   "execution_count": 9,
   "metadata": {
    "collapsed": true
   },
   "outputs": [],
   "source": [
    "X = df_0['essay_content']\n",
    "y = df_0['label']\n",
    "X_train, X_test, y_train, y_test = train_test_split(X, y, train_size=0.5)"
   ]
  },
  {
   "cell_type": "code",
   "execution_count": 10,
   "metadata": {
    "collapsed": true
   },
   "outputs": [],
   "source": [
    "vectorizer = TfidfVectorizer(lowercase=True)\n",
    "X_train_dtm = vectorizer.fit_transform(X_train)\n",
    "X_test_dtm = vectorizer.transform(X_test)"
   ]
  },
  {
   "cell_type": "code",
   "execution_count": 11,
   "metadata": {},
   "outputs": [
    {
     "data": {
      "text/plain": [
       "(2500, 11225)"
      ]
     },
     "execution_count": 11,
     "metadata": {},
     "output_type": "execute_result"
    }
   ],
   "source": [
    "X_train_dtm.shape"
   ]
  },
  {
   "cell_type": "code",
   "execution_count": 12,
   "metadata": {
    "collapsed": true
   },
   "outputs": [],
   "source": [
    "clf = LogisticRegression()\n",
    "#clf.fit(X_train_dtm[120:140], y_train[120:140])\n",
    "clf.fit(X_train_dtm, y_train)\n",
    "y_pred = clf.predict(X_test_dtm)"
   ]
  },
  {
   "cell_type": "code",
   "execution_count": 13,
   "metadata": {
    "collapsed": true
   },
   "outputs": [],
   "source": [
    "#clf.coef_"
   ]
  },
  {
   "cell_type": "code",
   "execution_count": 14,
   "metadata": {},
   "outputs": [
    {
     "data": {
      "text/plain": [
       "0.82720000000000005"
      ]
     },
     "execution_count": 14,
     "metadata": {},
     "output_type": "execute_result"
    }
   ],
   "source": [
    "accuracy_score(y_test, y_pred)"
   ]
  },
  {
   "cell_type": "code",
   "execution_count": 59,
   "metadata": {},
   "outputs": [
    {
     "name": "stdout",
     "output_type": "stream",
     "text": [
      "[ 0.80318091  0.80079681  0.8003992   0.80321285  0.82258065]\n"
     ]
    }
   ],
   "source": [
    "pipeline_lgr = Pipeline([\n",
    "    ('vect', TfidfVectorizer(lowercase=True, max_features=900)),\n",
    "    ('clf', LogisticRegression())\n",
    "])\n",
    "scores = cross_val_score(pipeline_lgr, X_train, y_train, cv=5)\n",
    "print scores"
   ]
  },
  {
   "cell_type": "code",
   "execution_count": 27,
   "metadata": {},
   "outputs": [
    {
     "name": "stdout",
     "output_type": "stream",
     "text": [
      "[ 0.8250497   0.83101392  0.85        0.82128514  0.83467742]\n"
     ]
    }
   ],
   "source": [
    "pipeline_mnb = Pipeline([\n",
    "    ('vect', CountVectorizer(lowercase=True, max_features=900)),\n",
    "    ('clf', MultinomialNB())\n",
    "])\n",
    "scores = cross_val_score(pipeline_mnb, X_train, y_train, cv=5)\n",
    "print scores"
   ]
  },
  {
   "cell_type": "code",
   "execution_count": 55,
   "metadata": {},
   "outputs": [
    {
     "name": "stdout",
     "output_type": "stream",
     "text": [
      "[ 0.70178926  0.71115538  0.68463074  0.68072289  0.72782258]\n"
     ]
    }
   ],
   "source": [
    "pipeline_rf = Pipeline([\n",
    "    ('vect', TfidfVectorizer(lowercase=True, max_features=900)),\n",
    "    ('clf', RandomForestClassifier(n_estimators=100))\n",
    "])\n",
    "scores = cross_val_score(pipeline_rf, X_train, y_train, cv=5)\n",
    "print scores"
   ]
  },
  {
   "cell_type": "code",
   "execution_count": 60,
   "metadata": {},
   "outputs": [
    {
     "name": "stdout",
     "output_type": "stream",
     "text": [
      "[ 0.87077535  0.86454183  0.86826347  0.86746988  0.89314516]\n"
     ]
    }
   ],
   "source": [
    "pipeline_svm = Pipeline([\n",
    "    ('vect', TfidfVectorizer(lowercase=True, max_features=900)),\n",
    "    ('clf', LinearSVC())\n",
    "])\n",
    "scores = cross_val_score(pipeline_svm, X_train, y_train, cv=5)\n",
    "print scores"
   ]
  },
  {
   "cell_type": "markdown",
   "metadata": {},
   "source": [
    "# Feature Extraction"
   ]
  },
  {
   "cell_type": "markdown",
   "metadata": {},
   "source": [
    "## POS tags"
   ]
  },
  {
   "cell_type": "code",
   "execution_count": 17,
   "metadata": {
    "collapsed": true
   },
   "outputs": [],
   "source": [
    "df_0['DT_pos'] = df_0['essay_content'].apply(lambda x: [' '.join([token.pos_ for token in spc_nlp(s.text)]) for s in spc_nlp(x.decode('utf-8')).sents])"
   ]
  },
  {
   "cell_type": "markdown",
   "metadata": {},
   "source": [
    "### Repetition of adjective"
   ]
  },
  {
   "cell_type": "code",
   "execution_count": 55,
   "metadata": {
    "collapsed": true
   },
   "outputs": [],
   "source": [
    "df_0['POS_adjv_body'] = df_0['essay_content'].apply(lambda x: [token.text.lower() for token in spc_nlp(x.decode('utf-8')) if (token.dep_=='amod')|(token.dep_=='advmod')])    "
   ]
  },
  {
   "cell_type": "code",
   "execution_count": null,
   "metadata": {
    "collapsed": true
   },
   "outputs": [],
   "source": [
    "df_0['POS_adjv_body'][:50].apply(lambda x: Counter(x).most_common(len(Counter(x).keys())/9)) # Get top 1/9 most common terms"
   ]
  },
  {
   "cell_type": "code",
   "execution_count": null,
   "metadata": {
    "collapsed": true
   },
   "outputs": [],
   "source": [
    "df_0['POS_adjv_repeat'] = df_0['POS_adjv_body'].apply(lambda x: len([k for k, v in dict(Counter(x)).iteritems() if v>1])*1./len(x))"
   ]
  },
  {
   "cell_type": "code",
   "execution_count": null,
   "metadata": {
    "collapsed": true
   },
   "outputs": [],
   "source": [
    "df_0['POS_adjv_repeat_sum'] = df_0['POS_adjv_body'].apply(lambda x: sum([v for k, v in dict(Counter(x)).iteritems() if v>1]))\n"
   ]
  },
  {
   "cell_type": "code",
   "execution_count": 234,
   "metadata": {
    "collapsed": true
   },
   "outputs": [],
   "source": [
    "#df_0.to_pickle('df_syntactic_20180109.pkl')"
   ]
  },
  {
   "cell_type": "code",
   "execution_count": 235,
   "metadata": {},
   "outputs": [
    {
     "data": {
      "text/html": [
       "<div>\n",
       "<table border=\"1\" class=\"dataframe\">\n",
       "  <thead>\n",
       "    <tr style=\"text-align: right;\">\n",
       "      <th></th>\n",
       "      <th>doc_id</th>\n",
       "      <th>path</th>\n",
       "      <th>author_code</th>\n",
       "      <th>essay_content</th>\n",
       "      <th>label</th>\n",
       "      <th>DT_max_dp_cnts</th>\n",
       "      <th>DT_archs</th>\n",
       "      <th>DT_ROOT_idx</th>\n",
       "      <th>DT_pass_cnt</th>\n",
       "      <th>DT_mark_cnt</th>\n",
       "      <th>POS_adjv_body</th>\n",
       "      <th>DT_pos</th>\n",
       "      <th>DT_pos_join</th>\n",
       "      <th>DT_archs_join</th>\n",
       "    </tr>\n",
       "  </thead>\n",
       "  <tbody>\n",
       "    <tr>\n",
       "      <th>0</th>\n",
       "      <td>1</td>\n",
       "      <td>data/ICNALE/Unmerged_classified/ICNALE_W_CHN_A...</td>\n",
       "      <td>W_CHN_PTJ0_021_A2_0.txt</td>\n",
       "      <td>﻿I agree that it is important for college stud...</td>\n",
       "      <td>CHN</td>\n",
       "      <td>[4, 6, 6, 8, 8, 5, 4, 6, 8, 4, 5, 7, 6]</td>\n",
       "      <td>[nsubj ROOT mark nsubj ccomp acomp mark compou...</td>\n",
       "      <td>[1, 9, 3, 16, 8, 8, 1, 3, 7, 1, 11, 2, 4]</td>\n",
       "      <td>[0, 0, 0, 0, 0, 0, 0, 0, 0, 0, 0, 0, 0]</td>\n",
       "      <td>[2, 0, 1, 0, 0, 1, 0, 1, 0, 0, 0, 0, 0]</td>\n",
       "      <td>[apart, nowadays, large, well, many, when, the...</td>\n",
       "      <td>[NOUN VERB ADP PRON VERB ADJ ADP NOUN NOUN PAR...</td>\n",
       "      <td>NOUN VERB ADP PRON VERB ADJ ADP NOUN NOUN PART...</td>\n",
       "      <td>nsubj ROOT mark nsubj ccomp acomp mark compoun...</td>\n",
       "    </tr>\n",
       "    <tr>\n",
       "      <th>1</th>\n",
       "      <td>2</td>\n",
       "      <td>data/ICNALE/Unmerged_classified/ICNALE_W_CHN_A...</td>\n",
       "      <td>W_CHN_PTJ0_022_A2_0.txt</td>\n",
       "      <td>﻿In the last years, college students taking a ...</td>\n",
       "      <td>CHN</td>\n",
       "      <td>[7, 4, 4, 3, 5, 5, 5, 5, 4, 6, 6, 7, 8, 9]</td>\n",
       "      <td>[aux det amod npadvmod punct compound nsubj ac...</td>\n",
       "      <td>[13, 2, 2, 1, 3, 6, 8, 5, 2, 3, 2, 4, 11, 4]</td>\n",
       "      <td>[0, 0, 0, 0, 1, 0, 0, 0, 0, 0, 0, 0, 0, 1]</td>\n",
       "      <td>[0, 2, 0, 0, 1, 0, 1, 0, 0, 2, 0, 0, 1, 0]</td>\n",
       "      <td>[last, very, big, many, firstly, most, importa...</td>\n",
       "      <td>[VERB DET ADJ NOUN PUNCT NOUN NOUN VERB DET AD...</td>\n",
       "      <td>VERB DET ADJ NOUN PUNCT NOUN NOUN VERB DET ADJ...</td>\n",
       "      <td>aux det amod npadvmod punct compound nsubj acl...</td>\n",
       "    </tr>\n",
       "  </tbody>\n",
       "</table>\n",
       "</div>"
      ],
      "text/plain": [
       "   doc_id                                               path  \\\n",
       "0       1  data/ICNALE/Unmerged_classified/ICNALE_W_CHN_A...   \n",
       "1       2  data/ICNALE/Unmerged_classified/ICNALE_W_CHN_A...   \n",
       "\n",
       "               author_code                                      essay_content  \\\n",
       "0  W_CHN_PTJ0_021_A2_0.txt  ﻿I agree that it is important for college stud...   \n",
       "1  W_CHN_PTJ0_022_A2_0.txt  ﻿In the last years, college students taking a ...   \n",
       "\n",
       "  label                              DT_max_dp_cnts  \\\n",
       "0   CHN     [4, 6, 6, 8, 8, 5, 4, 6, 8, 4, 5, 7, 6]   \n",
       "1   CHN  [7, 4, 4, 3, 5, 5, 5, 5, 4, 6, 6, 7, 8, 9]   \n",
       "\n",
       "                                            DT_archs  \\\n",
       "0  [nsubj ROOT mark nsubj ccomp acomp mark compou...   \n",
       "1  [aux det amod npadvmod punct compound nsubj ac...   \n",
       "\n",
       "                                    DT_ROOT_idx  \\\n",
       "0     [1, 9, 3, 16, 8, 8, 1, 3, 7, 1, 11, 2, 4]   \n",
       "1  [13, 2, 2, 1, 3, 6, 8, 5, 2, 3, 2, 4, 11, 4]   \n",
       "\n",
       "                                  DT_pass_cnt  \\\n",
       "0     [0, 0, 0, 0, 0, 0, 0, 0, 0, 0, 0, 0, 0]   \n",
       "1  [0, 0, 0, 0, 1, 0, 0, 0, 0, 0, 0, 0, 0, 1]   \n",
       "\n",
       "                                  DT_mark_cnt  \\\n",
       "0     [2, 0, 1, 0, 0, 1, 0, 1, 0, 0, 0, 0, 0]   \n",
       "1  [0, 2, 0, 0, 1, 0, 1, 0, 0, 2, 0, 0, 1, 0]   \n",
       "\n",
       "                                       POS_adjv_body  \\\n",
       "0  [apart, nowadays, large, well, many, when, the...   \n",
       "1  [last, very, big, many, firstly, most, importa...   \n",
       "\n",
       "                                              DT_pos  \\\n",
       "0  [NOUN VERB ADP PRON VERB ADJ ADP NOUN NOUN PAR...   \n",
       "1  [VERB DET ADJ NOUN PUNCT NOUN NOUN VERB DET AD...   \n",
       "\n",
       "                                         DT_pos_join  \\\n",
       "0  NOUN VERB ADP PRON VERB ADJ ADP NOUN NOUN PART...   \n",
       "1  VERB DET ADJ NOUN PUNCT NOUN NOUN VERB DET ADJ...   \n",
       "\n",
       "                                       DT_archs_join  \n",
       "0  nsubj ROOT mark nsubj ccomp acomp mark compoun...  \n",
       "1  aux det amod npadvmod punct compound nsubj acl...  "
      ]
     },
     "execution_count": 235,
     "metadata": {},
     "output_type": "execute_result"
    }
   ],
   "source": [
    "df_0.head(2)"
   ]
  },
  {
   "cell_type": "markdown",
   "metadata": {},
   "source": [
    "### POS ngram"
   ]
  },
  {
   "cell_type": "code",
   "execution_count": 22,
   "metadata": {},
   "outputs": [
    {
     "data": {
      "text/plain": [
       "[u'NOUN VERB ADP PRON VERB ADJ ADP NOUN NOUN PART VERB ADV PUNCT NOUN NOUN PUNCT',\n",
       " u'ADV PUNCT DET ADJ NOUN ADP NOUN NOUN VERB VERB DET ADJ PUNCT NOUN NOUN PUNCT',\n",
       " u'DET ADP PRON VERB DET NOUN PUNCT NOUN NOUN VERB VERB PRON PART VERB ADP DET NOUN ADV CCONJ VERB PRON ADJ NOUN PUNCT',\n",
       " u'VERB DET NOUN ADP NOUN ADP NOUN PUNCT ADV PROPN VERB DET NOUN NOUN PUNCT PRON VERB ADP NOUN ADP DET NOUN CCONJ VERB PART VERB DET NOUN NOUN DET NOUN PUNCT',\n",
       " u'ADV VERB ADP ADJ NOUN PUNCT PRON ADV VERB DET ADJ NOUN ADP VERB ADP NOUN PUNCT',\n",
       " u'ADP DET ADJ NOUN PART NOUN PUNCT PRON VERB ADP PRON VERB VERB NOUN PRON VERB ADJ NOUN VERB ADV VERB PUNCT',\n",
       " u'PRON VERB DET NOUN ADJ PRON VERB ADP DET NOUN ADP DET NOUN ADP ADJ ADJ PUNCT NOUN PART VERB ADJ NOUN NOUN DET NOUN VERB PUNCT',\n",
       " u'ADV PUNCT PRON VERB ADJ ADP NOUN NOUN PART VERB DET ADJ PUNCT NOUN NOUN PUNCT',\n",
       " u'ADV PUNCT ADJ NOUN ADV VERB ADV VERB PRON PART VERB ADJ PUNCT NOUN NOUN PUNCT',\n",
       " u'PRON VERB ADJ ADP ADJ NOUN CCONJ NOUN PUNCT',\n",
       " u'ADP ADJ NOUN PUNCT VERB DET ADJ NOUN PUNCT NOUN NOUN VERB ADJ ADP NOUN PUNCT',\n",
       " u'PRON VERB VERB NOUN ADP DET NOUN ADP NOUN PUNCT NOUN NOUN CCONJ VERB DET ADJ ADP PRON PUNCT',\n",
       " u'ADV PUNCT PRON VERB VERB PART VERB NOUN ADP DET ADJ PUNCT NOUN NOUN CCONJ VERB PRON DET ADJ NOUN ADP ADJ NOUN PUNCT']"
      ]
     },
     "execution_count": 22,
     "metadata": {},
     "output_type": "execute_result"
    }
   ],
   "source": [
    "df_0.DT_pos[0]"
   ]
  },
  {
   "cell_type": "code",
   "execution_count": 23,
   "metadata": {
    "collapsed": true
   },
   "outputs": [],
   "source": [
    "df_0['DT_pos_join'] = df_0['DT_pos'].apply(lambda x: ' '.join(x))"
   ]
  },
  {
   "cell_type": "code",
   "execution_count": 24,
   "metadata": {},
   "outputs": [
    {
     "data": {
      "text/html": [
       "<div>\n",
       "<table border=\"1\" class=\"dataframe\">\n",
       "  <thead>\n",
       "    <tr style=\"text-align: right;\">\n",
       "      <th></th>\n",
       "      <th>doc_id</th>\n",
       "      <th>path</th>\n",
       "      <th>author_code</th>\n",
       "      <th>essay_content</th>\n",
       "      <th>label</th>\n",
       "      <th>DT_max_dp_cnts</th>\n",
       "      <th>DT_archs</th>\n",
       "      <th>DT_ROOT_idx</th>\n",
       "      <th>DT_pass_cnt</th>\n",
       "      <th>DT_mark_cnt</th>\n",
       "      <th>POS_adjv_body</th>\n",
       "      <th>DT_pos</th>\n",
       "      <th>DT_pos_join</th>\n",
       "    </tr>\n",
       "  </thead>\n",
       "  <tbody>\n",
       "    <tr>\n",
       "      <th>0</th>\n",
       "      <td>1</td>\n",
       "      <td>data/ICNALE/Unmerged_classified/ICNALE_W_CHN_A...</td>\n",
       "      <td>W_CHN_PTJ0_021_A2_0.txt</td>\n",
       "      <td>﻿I agree that it is important for college stud...</td>\n",
       "      <td>CHN</td>\n",
       "      <td>[4, 6, 6, 8, 8, 5, 4, 6, 8, 4, 5, 7, 6]</td>\n",
       "      <td>[nsubj ROOT mark nsubj ccomp acomp mark compou...</td>\n",
       "      <td>[1, 9, 3, 16, 8, 8, 1, 3, 7, 1, 11, 2, 4]</td>\n",
       "      <td>[0, 0, 0, 0, 0, 0, 0, 0, 0, 0, 0, 0, 0]</td>\n",
       "      <td>[2, 0, 1, 0, 0, 1, 0, 1, 0, 0, 0, 0, 0]</td>\n",
       "      <td>[apart, nowadays, large, well, many, when, the...</td>\n",
       "      <td>[NOUN VERB ADP PRON VERB ADJ ADP NOUN NOUN PAR...</td>\n",
       "      <td>NOUN VERB ADP PRON VERB ADJ ADP NOUN NOUN PART...</td>\n",
       "    </tr>\n",
       "    <tr>\n",
       "      <th>1</th>\n",
       "      <td>2</td>\n",
       "      <td>data/ICNALE/Unmerged_classified/ICNALE_W_CHN_A...</td>\n",
       "      <td>W_CHN_PTJ0_022_A2_0.txt</td>\n",
       "      <td>﻿In the last years, college students taking a ...</td>\n",
       "      <td>CHN</td>\n",
       "      <td>[7, 4, 4, 3, 5, 5, 5, 5, 4, 6, 6, 7, 8, 9]</td>\n",
       "      <td>[aux det amod npadvmod punct compound nsubj ac...</td>\n",
       "      <td>[13, 2, 2, 1, 3, 6, 8, 5, 2, 3, 2, 4, 11, 4]</td>\n",
       "      <td>[0, 0, 0, 0, 1, 0, 0, 0, 0, 0, 0, 0, 0, 1]</td>\n",
       "      <td>[0, 2, 0, 0, 1, 0, 1, 0, 0, 2, 0, 0, 1, 0]</td>\n",
       "      <td>[last, very, big, many, firstly, most, importa...</td>\n",
       "      <td>[VERB DET ADJ NOUN PUNCT NOUN NOUN VERB DET AD...</td>\n",
       "      <td>VERB DET ADJ NOUN PUNCT NOUN NOUN VERB DET ADJ...</td>\n",
       "    </tr>\n",
       "  </tbody>\n",
       "</table>\n",
       "</div>"
      ],
      "text/plain": [
       "   doc_id                                               path  \\\n",
       "0       1  data/ICNALE/Unmerged_classified/ICNALE_W_CHN_A...   \n",
       "1       2  data/ICNALE/Unmerged_classified/ICNALE_W_CHN_A...   \n",
       "\n",
       "               author_code                                      essay_content  \\\n",
       "0  W_CHN_PTJ0_021_A2_0.txt  ﻿I agree that it is important for college stud...   \n",
       "1  W_CHN_PTJ0_022_A2_0.txt  ﻿In the last years, college students taking a ...   \n",
       "\n",
       "  label                              DT_max_dp_cnts  \\\n",
       "0   CHN     [4, 6, 6, 8, 8, 5, 4, 6, 8, 4, 5, 7, 6]   \n",
       "1   CHN  [7, 4, 4, 3, 5, 5, 5, 5, 4, 6, 6, 7, 8, 9]   \n",
       "\n",
       "                                            DT_archs  \\\n",
       "0  [nsubj ROOT mark nsubj ccomp acomp mark compou...   \n",
       "1  [aux det amod npadvmod punct compound nsubj ac...   \n",
       "\n",
       "                                    DT_ROOT_idx  \\\n",
       "0     [1, 9, 3, 16, 8, 8, 1, 3, 7, 1, 11, 2, 4]   \n",
       "1  [13, 2, 2, 1, 3, 6, 8, 5, 2, 3, 2, 4, 11, 4]   \n",
       "\n",
       "                                  DT_pass_cnt  \\\n",
       "0     [0, 0, 0, 0, 0, 0, 0, 0, 0, 0, 0, 0, 0]   \n",
       "1  [0, 0, 0, 0, 1, 0, 0, 0, 0, 0, 0, 0, 0, 1]   \n",
       "\n",
       "                                  DT_mark_cnt  \\\n",
       "0     [2, 0, 1, 0, 0, 1, 0, 1, 0, 0, 0, 0, 0]   \n",
       "1  [0, 2, 0, 0, 1, 0, 1, 0, 0, 2, 0, 0, 1, 0]   \n",
       "\n",
       "                                       POS_adjv_body  \\\n",
       "0  [apart, nowadays, large, well, many, when, the...   \n",
       "1  [last, very, big, many, firstly, most, importa...   \n",
       "\n",
       "                                              DT_pos  \\\n",
       "0  [NOUN VERB ADP PRON VERB ADJ ADP NOUN NOUN PAR...   \n",
       "1  [VERB DET ADJ NOUN PUNCT NOUN NOUN VERB DET AD...   \n",
       "\n",
       "                                         DT_pos_join  \n",
       "0  NOUN VERB ADP PRON VERB ADJ ADP NOUN NOUN PART...  \n",
       "1  VERB DET ADJ NOUN PUNCT NOUN NOUN VERB DET ADJ...  "
      ]
     },
     "execution_count": 24,
     "metadata": {},
     "output_type": "execute_result"
    }
   ],
   "source": [
    "df_0.head(2)"
   ]
  },
  {
   "cell_type": "markdown",
   "metadata": {},
   "source": [
    "### When using POS ngram, as n increases, the accuracy increases"
   ]
  },
  {
   "cell_type": "code",
   "execution_count": 53,
   "metadata": {
    "collapsed": true
   },
   "outputs": [],
   "source": [
    "X = df_0['DT_insent_pos_ngram']\n",
    "#X = df_2['essay_content']\n",
    "y = df_0['label']\n",
    "X_train, X_test, y_train, y_test = train_test_split(X, y, train_size=0.8)"
   ]
  },
  {
   "cell_type": "code",
   "execution_count": 54,
   "metadata": {
    "collapsed": true
   },
   "outputs": [],
   "source": [
    "#vectorizer = CountVectorizer(lowercase=True, ngram_range=(1,1))\n",
    "vectorizer = TfidfVectorizer(lowercase=True, ngram_range=(1,1))\n",
    "X_train_dtm = vectorizer.fit_transform(X_train)\n",
    "X_test_dtm = vectorizer.transform(X_test)"
   ]
  },
  {
   "cell_type": "code",
   "execution_count": 55,
   "metadata": {
    "collapsed": true
   },
   "outputs": [],
   "source": [
    "clf = LogisticRegression()\n",
    "#clf.fit(X_train_dtm[120:140], y_train[120:140])\n",
    "clf.fit(X_train_dtm, y_train)\n",
    "y_pred = clf.predict(X_test_dtm)"
   ]
  },
  {
   "cell_type": "code",
   "execution_count": 56,
   "metadata": {},
   "outputs": [
    {
     "data": {
      "text/plain": [
       "0.68300000000000005"
      ]
     },
     "execution_count": 56,
     "metadata": {},
     "output_type": "execute_result"
    }
   ],
   "source": [
    "accuracy_score(y_test, y_pred)"
   ]
  },
  {
   "cell_type": "markdown",
   "metadata": {},
   "source": [
    "### Create POS ngram within sentence boundary"
   ]
  },
  {
   "cell_type": "code",
   "execution_count": 12,
   "metadata": {
    "collapsed": true
   },
   "outputs": [],
   "source": [
    "#df_0 = pd.read_pickle('df_syntactic_20180109.pkl')"
   ]
  },
  {
   "cell_type": "code",
   "execution_count": 44,
   "metadata": {
    "collapsed": true
   },
   "outputs": [],
   "source": [
    "n = 4\n",
    "df_0['DT_insent_pos_ngram'] = df_0['DT_pos'].apply(lambda x: pwk.loop_body(x, n))"
   ]
  },
  {
   "cell_type": "code",
   "execution_count": 39,
   "metadata": {
    "collapsed": true
   },
   "outputs": [],
   "source": [
    "#df_0['DT_insent_pos_ngram']"
   ]
  },
  {
   "cell_type": "markdown",
   "metadata": {},
   "source": [
    "### Create dependency tree arch tag ngram"
   ]
  },
  {
   "cell_type": "code",
   "execution_count": 51,
   "metadata": {
    "collapsed": true
   },
   "outputs": [],
   "source": [
    "df_0['DT_archs_join'] = df_0['DT_archs'].apply(lambda x: ' '.join(x))"
   ]
  },
  {
   "cell_type": "code",
   "execution_count": 52,
   "metadata": {},
   "outputs": [
    {
     "data": {
      "text/html": [
       "<div>\n",
       "<table border=\"1\" class=\"dataframe\">\n",
       "  <thead>\n",
       "    <tr style=\"text-align: right;\">\n",
       "      <th></th>\n",
       "      <th>doc_id</th>\n",
       "      <th>path</th>\n",
       "      <th>author_code</th>\n",
       "      <th>essay_content</th>\n",
       "      <th>label</th>\n",
       "      <th>DT_max_dp_cnts</th>\n",
       "      <th>DT_archs</th>\n",
       "      <th>DT_ROOT_idx</th>\n",
       "      <th>DT_pass_cnt</th>\n",
       "      <th>DT_mark_cnt</th>\n",
       "      <th>POS_adjv_body</th>\n",
       "      <th>DT_pos</th>\n",
       "      <th>DT_pos_join</th>\n",
       "      <th>DT_archs_join</th>\n",
       "    </tr>\n",
       "  </thead>\n",
       "  <tbody>\n",
       "    <tr>\n",
       "      <th>0</th>\n",
       "      <td>1</td>\n",
       "      <td>data/ICNALE/Unmerged_classified/ICNALE_W_CHN_A...</td>\n",
       "      <td>W_CHN_PTJ0_021_A2_0.txt</td>\n",
       "      <td>﻿I agree that it is important for college stud...</td>\n",
       "      <td>CHN</td>\n",
       "      <td>[4, 6, 6, 8, 8, 5, 4, 6, 8, 4, 5, 7, 6]</td>\n",
       "      <td>[nsubj ROOT mark nsubj ccomp acomp mark compou...</td>\n",
       "      <td>[1, 9, 3, 16, 8, 8, 1, 3, 7, 1, 11, 2, 4]</td>\n",
       "      <td>[0, 0, 0, 0, 0, 0, 0, 0, 0, 0, 0, 0, 0]</td>\n",
       "      <td>[2, 0, 1, 0, 0, 1, 0, 1, 0, 0, 0, 0, 0]</td>\n",
       "      <td>[apart, nowadays, large, well, many, when, the...</td>\n",
       "      <td>[NOUN VERB ADP PRON VERB ADJ ADP NOUN NOUN PAR...</td>\n",
       "      <td>NOUN VERB ADP PRON VERB ADJ ADP NOUN NOUN PART...</td>\n",
       "      <td>nsubj ROOT mark nsubj ccomp acomp mark compoun...</td>\n",
       "    </tr>\n",
       "    <tr>\n",
       "      <th>1</th>\n",
       "      <td>2</td>\n",
       "      <td>data/ICNALE/Unmerged_classified/ICNALE_W_CHN_A...</td>\n",
       "      <td>W_CHN_PTJ0_022_A2_0.txt</td>\n",
       "      <td>﻿In the last years, college students taking a ...</td>\n",
       "      <td>CHN</td>\n",
       "      <td>[7, 4, 4, 3, 5, 5, 5, 5, 4, 6, 6, 7, 8, 9]</td>\n",
       "      <td>[aux det amod npadvmod punct compound nsubj ac...</td>\n",
       "      <td>[13, 2, 2, 1, 3, 6, 8, 5, 2, 3, 2, 4, 11, 4]</td>\n",
       "      <td>[0, 0, 0, 0, 1, 0, 0, 0, 0, 0, 0, 0, 0, 1]</td>\n",
       "      <td>[0, 2, 0, 0, 1, 0, 1, 0, 0, 2, 0, 0, 1, 0]</td>\n",
       "      <td>[last, very, big, many, firstly, most, importa...</td>\n",
       "      <td>[VERB DET ADJ NOUN PUNCT NOUN NOUN VERB DET AD...</td>\n",
       "      <td>VERB DET ADJ NOUN PUNCT NOUN NOUN VERB DET ADJ...</td>\n",
       "      <td>aux det amod npadvmod punct compound nsubj acl...</td>\n",
       "    </tr>\n",
       "  </tbody>\n",
       "</table>\n",
       "</div>"
      ],
      "text/plain": [
       "   doc_id                                               path  \\\n",
       "0       1  data/ICNALE/Unmerged_classified/ICNALE_W_CHN_A...   \n",
       "1       2  data/ICNALE/Unmerged_classified/ICNALE_W_CHN_A...   \n",
       "\n",
       "               author_code                                      essay_content  \\\n",
       "0  W_CHN_PTJ0_021_A2_0.txt  ﻿I agree that it is important for college stud...   \n",
       "1  W_CHN_PTJ0_022_A2_0.txt  ﻿In the last years, college students taking a ...   \n",
       "\n",
       "  label                              DT_max_dp_cnts  \\\n",
       "0   CHN     [4, 6, 6, 8, 8, 5, 4, 6, 8, 4, 5, 7, 6]   \n",
       "1   CHN  [7, 4, 4, 3, 5, 5, 5, 5, 4, 6, 6, 7, 8, 9]   \n",
       "\n",
       "                                            DT_archs  \\\n",
       "0  [nsubj ROOT mark nsubj ccomp acomp mark compou...   \n",
       "1  [aux det amod npadvmod punct compound nsubj ac...   \n",
       "\n",
       "                                    DT_ROOT_idx  \\\n",
       "0     [1, 9, 3, 16, 8, 8, 1, 3, 7, 1, 11, 2, 4]   \n",
       "1  [13, 2, 2, 1, 3, 6, 8, 5, 2, 3, 2, 4, 11, 4]   \n",
       "\n",
       "                                  DT_pass_cnt  \\\n",
       "0     [0, 0, 0, 0, 0, 0, 0, 0, 0, 0, 0, 0, 0]   \n",
       "1  [0, 0, 0, 0, 1, 0, 0, 0, 0, 0, 0, 0, 0, 1]   \n",
       "\n",
       "                                  DT_mark_cnt  \\\n",
       "0     [2, 0, 1, 0, 0, 1, 0, 1, 0, 0, 0, 0, 0]   \n",
       "1  [0, 2, 0, 0, 1, 0, 1, 0, 0, 2, 0, 0, 1, 0]   \n",
       "\n",
       "                                       POS_adjv_body  \\\n",
       "0  [apart, nowadays, large, well, many, when, the...   \n",
       "1  [last, very, big, many, firstly, most, importa...   \n",
       "\n",
       "                                              DT_pos  \\\n",
       "0  [NOUN VERB ADP PRON VERB ADJ ADP NOUN NOUN PAR...   \n",
       "1  [VERB DET ADJ NOUN PUNCT NOUN NOUN VERB DET AD...   \n",
       "\n",
       "                                         DT_pos_join  \\\n",
       "0  NOUN VERB ADP PRON VERB ADJ ADP NOUN NOUN PART...   \n",
       "1  VERB DET ADJ NOUN PUNCT NOUN NOUN VERB DET ADJ...   \n",
       "\n",
       "                                       DT_archs_join  \n",
       "0  nsubj ROOT mark nsubj ccomp acomp mark compoun...  \n",
       "1  aux det amod npadvmod punct compound nsubj acl...  "
      ]
     },
     "execution_count": 52,
     "metadata": {},
     "output_type": "execute_result"
    }
   ],
   "source": [
    "df_0.head(2)"
   ]
  },
  {
   "cell_type": "markdown",
   "metadata": {},
   "source": [
    "### Create arch ngram within sentence boundary"
   ]
  },
  {
   "cell_type": "code",
   "execution_count": 74,
   "metadata": {
    "collapsed": true
   },
   "outputs": [],
   "source": [
    "n = 3\n",
    "df_0['DT_insent_arch_ngram'] = df_0['DT_archs'].apply(lambda x: pwk.loop_body(x, n))"
   ]
  },
  {
   "cell_type": "code",
   "execution_count": 75,
   "metadata": {
    "collapsed": true
   },
   "outputs": [],
   "source": [
    "#df_0['DT_insent_arch_ngram'][4]"
   ]
  },
  {
   "cell_type": "markdown",
   "metadata": {},
   "source": [
    "### Classifying using arch ngram"
   ]
  },
  {
   "cell_type": "markdown",
   "metadata": {},
   "source": [
    "**When choosing countries that intuitively will be more distinguishable, the accuracy increases**"
   ]
  },
  {
   "cell_type": "code",
   "execution_count": 110,
   "metadata": {
    "collapsed": true
   },
   "outputs": [],
   "source": [
    "X = df_0[(df_0['label']=='ENS')|(df_0['label']=='CHN')|(df_0['label']=='JPN')|\\\n",
    "          (df_0['label']=='KOR')|(df_0['label']=='PAK')]['DT_insent_arch_ngram']\n",
    "#X = df_2['essay_content']\n",
    "y = df_0[(df_0['label']=='ENS')|(df_0['label']=='CHN')|(df_0['label']=='JPN')|\\\n",
    "         (df_0['label']=='KOR')|(df_0['label']=='PAK')]['label']\n",
    "X_train, X_test, y_train, y_test = train_test_split(X, y, train_size=0.8)\n",
    "vectorizer = CountVectorizer(lowercase=True, ngram_range=(1,1))\n",
    "#vectorizer = TfidfVectorizer(lowercase=True, ngram_range=(3,3))\n",
    "X_train_dtm = vectorizer.fit_transform(X_train)\n",
    "X_test_dtm = vectorizer.transform(X_test)\n",
    "clf = LogisticRegression()\n",
    "#clf = LogisticRegression()\n",
    "#clf.fit(X_train_dtm[120:140], y_train[120:140])\n",
    "clf.fit(X_train_dtm, y_train)\n",
    "y_pred = clf.predict(X_test_dtm)"
   ]
  },
  {
   "cell_type": "code",
   "execution_count": 111,
   "metadata": {},
   "outputs": [
    {
     "data": {
      "text/plain": [
       "0.78166666666666662"
      ]
     },
     "execution_count": 111,
     "metadata": {},
     "output_type": "execute_result"
    }
   ],
   "source": [
    "accuracy_score(y_test, y_pred)"
   ]
  },
  {
   "cell_type": "markdown",
   "metadata": {},
   "source": [
    "### (Count of PUNCT+FANBOYS)"
   ]
  },
  {
   "cell_type": "code",
   "execution_count": 18,
   "metadata": {
    "collapsed": true
   },
   "outputs": [],
   "source": [
    "##\n",
    "##"
   ]
  },
  {
   "cell_type": "markdown",
   "metadata": {},
   "source": [
    "## Dependency Tree archs"
   ]
  },
  {
   "cell_type": "code",
   "execution_count": null,
   "metadata": {
    "collapsed": true
   },
   "outputs": [],
   "source": [
    "df_0['DT_archs'] = df_0['essay_content'].apply(lambda x: [' '.join([token.dep_ for token in spc_nlp(s.text)]) for s in spc_nlp(x.decode('utf-8')).sents])"
   ]
  },
  {
   "cell_type": "markdown",
   "metadata": {
    "collapsed": true
   },
   "source": [
    "### sentence max child counts per essay\n"
   ]
  },
  {
   "cell_type": "code",
   "execution_count": 22,
   "metadata": {},
   "outputs": [
    {
     "data": {
      "text/plain": [
       "Index([u'doc_id', u'path', u'author_code', u'essay_content', u'label',\n",
       "       u'DT_max_dp_cnts'],\n",
       "      dtype='object')"
      ]
     },
     "execution_count": 22,
     "metadata": {},
     "output_type": "execute_result"
    }
   ],
   "source": [
    "df_0.columns"
   ]
  },
  {
   "cell_type": "code",
   "execution_count": 10,
   "metadata": {
    "collapsed": true
   },
   "outputs": [],
   "source": [
    "df_0['DT_max_dp_cnts'] = df_0['essay_content'].apply(lambda x: [max([len([c for c in token.children]) \\\n",
    "                                                                  for token in spc_nlp(s.text)]) \\\n",
    "                                                                      for s in spc_nlp(x.decode('utf-8')).sents])"
   ]
  },
  {
   "cell_type": "code",
   "execution_count": 24,
   "metadata": {},
   "outputs": [
    {
     "data": {
      "text/plain": [
       "(array([  2.00000000e+00,   5.90000000e+01,   7.69000000e+02,\n",
       "          2.08600000e+03,   1.49200000e+03,   4.55000000e+02,\n",
       "          1.12000000e+02,   1.70000000e+01,   7.00000000e+00,\n",
       "          1.00000000e+00]),\n",
       " array([ 0.        ,  0.39015666,  0.78031333,  1.17046999,  1.56062665,\n",
       "         1.95078332,  2.34093998,  2.73109665,  3.12125331,  3.51140997,\n",
       "         3.90156664]),\n",
       " <a list of 10 Patch objects>)"
      ]
     },
     "execution_count": 24,
     "metadata": {},
     "output_type": "execute_result"
    },
    {
     "data": {
      "image/png": "[encoded data removed]",
      "text/plain": [
       "<matplotlib.figure.Figure at 0x1a1a401150>"
      ]
     },
     "metadata": {},
     "output_type": "display_data"
    }
   ],
   "source": [
    "# Maybe get the std of sentence max child count is a good indicator\n",
    "plt.hist(df_0.DT_max_dp_cnts.apply(lambda x: np.array(x).std()))"
   ]
  },
  {
   "cell_type": "markdown",
   "metadata": {},
   "source": [
    "**Check the pattern of sentence children counts per country**"
   ]
  },
  {
   "cell_type": "code",
   "execution_count": 228,
   "metadata": {
    "collapsed": true
   },
   "outputs": [],
   "source": [
    "df_t = df_0[(df_0['label']=='ENS')|\\\n",
    "          (df_0['label']=='IDN')|(df_0['label']=='PAK')|(df_0['label']=='SIN')]"
   ]
  },
  {
   "cell_type": "code",
   "execution_count": 1,
   "metadata": {},
   "outputs": [
    {
     "ename": "NameError",
     "evalue": "name 'pwk' is not defined",
     "output_type": "error",
     "traceback": [
      "\u001b[0;31m---------------------------------------------------------------------------\u001b[0m",
      "\u001b[0;31mNameError\u001b[0m                                 Traceback (most recent call last)",
      "\u001b[0;32m<ipython-input-1-68a41102202a>\u001b[0m in \u001b[0;36m<module>\u001b[0;34m()\u001b[0m\n\u001b[0;32m----> 1\u001b[0;31m \u001b[0mpwk\u001b[0m\u001b[0;34m.\u001b[0m\u001b[0mplot_pattern_country\u001b[0m\u001b[0;34m(\u001b[0m\u001b[0mdf_t\u001b[0m\u001b[0;34m,\u001b[0m \u001b[0;34m'DT_max_dp_cnts'\u001b[0m\u001b[0;34m,\u001b[0m \u001b[0mnp\u001b[0m\u001b[0;34m.\u001b[0m\u001b[0mmean\u001b[0m\u001b[0;34m,\u001b[0m \u001b[0;34m'Word Syntactic Child Count per Country'\u001b[0m\u001b[0;34m)\u001b[0m\u001b[0;34m\u001b[0m\u001b[0m\n\u001b[0m",
      "\u001b[0;31mNameError\u001b[0m: name 'pwk' is not defined"
     ]
    }
   ],
   "source": [
    "pwk.plot_pattern(df_t, 'DT_max_dp_cnts', np.mean)"
   ]
  },
  {
   "cell_type": "code",
   "execution_count": null,
   "metadata": {
    "collapsed": true
   },
   "outputs": [],
   "source": []
  },
  {
   "cell_type": "code",
   "execution_count": null,
   "metadata": {
    "collapsed": true
   },
   "outputs": [],
   "source": []
  },
  {
   "cell_type": "code",
   "execution_count": null,
   "metadata": {
    "collapsed": true
   },
   "outputs": [],
   "source": []
  },
  {
   "cell_type": "markdown",
   "metadata": {},
   "source": [
    "### Relative positions of ROOT"
   ]
  },
  {
   "cell_type": "markdown",
   "metadata": {},
   "source": [
    "### compare the sentence length and the index of ROOT shows that ROOT.index doesn't necessarily reflect the sentence length"
   ]
  },
  {
   "cell_type": "code",
   "execution_count": 27,
   "metadata": {},
   "outputs": [
    {
     "data": {
      "text/plain": [
       "[{122: [13]},\n",
       " {107: [2]},\n",
       " {29: [2]},\n",
       " {45: [1]},\n",
       " {108: [3]},\n",
       " {65: [6]},\n",
       " {64: [8]},\n",
       " {118: [5]},\n",
       " {48: [2]},\n",
       " {138: [3]},\n",
       " {55: [2]},\n",
       " {167: [4]},\n",
       " {82: [11]},\n",
       " {109: [4]}]"
      ]
     },
     "execution_count": 27,
     "metadata": {},
     "output_type": "execute_result"
    }
   ],
   "source": [
    "[{len(s):[i for i,e in enumerate(s.split(' ')) if e=='ROOT']} for s in df_0.DT_archs[1]]"
   ]
  },
  {
   "cell_type": "code",
   "execution_count": 28,
   "metadata": {
    "collapsed": true
   },
   "outputs": [],
   "source": [
    "df_0['DT_ROOT_idx'] = df_0['DT_archs'].apply(lambda x: [[i for i,e in enumerate(s.split(' ')) if e=='ROOT'][0] for s in x])"
   ]
  },
  {
   "cell_type": "markdown",
   "metadata": {},
   "source": [
    "### It's pretty obvious that different native language group has different mean, so this may be a good feature"
   ]
  },
  {
   "cell_type": "code",
   "execution_count": 37,
   "metadata": {},
   "outputs": [
    {
     "data": {
      "text/plain": [
       "(array([ 104.,  376.,  223.,   73.,   16.,    2.,    4.,    1.,    0.,    1.]),\n",
       " array([  2.21428571,   4.23285714,   6.25142857,   8.27      ,\n",
       "         10.28857143,  12.30714286,  14.32571429,  16.34428571,\n",
       "         18.36285714,  20.38142857,  22.4       ]),\n",
       " <a list of 10 Patch objects>)"
      ]
     },
     "execution_count": 37,
     "metadata": {},
     "output_type": "execute_result"
    },
    {
     "data": {
      "image/png": "[encoded data removed]",
      "text/plain": [
       "<matplotlib.figure.Figure at 0x1a22c71190>"
      ]
     },
     "metadata": {},
     "output_type": "display_data"
    }
   ],
   "source": [
    "fig, ax = plt.subplots()\n",
    "ax.hist(df_0[df_0['label']=='ENS'].DT_ROOT_idx.apply(lambda x: np.array(x).mean()))\n",
    "ax.hist(df_0[df_0['label']=='KOR'].DT_ROOT_idx.apply(lambda x: np.array(x).mean()))\n",
    "ax.hist(df_0[df_0['label']=='CHN'].DT_ROOT_idx.apply(lambda x: np.array(x).mean()))"
   ]
  },
  {
   "cell_type": "markdown",
   "metadata": {},
   "source": [
    "### Count of xxpass"
   ]
  },
  {
   "cell_type": "code",
   "execution_count": 42,
   "metadata": {
    "collapsed": true
   },
   "outputs": [],
   "source": [
    "df_0['DT_pass_cnt'] = df_0['DT_archs'].apply(lambda x: [len([dep for dep in s.split(' ') if dep[-4:]=='pass']) for s in x])"
   ]
  },
  {
   "cell_type": "code",
   "execution_count": 44,
   "metadata": {
    "collapsed": true
   },
   "outputs": [],
   "source": [
    "#df_0['DT_pass_cnt']"
   ]
  },
  {
   "cell_type": "code",
   "execution_count": 49,
   "metadata": {},
   "outputs": [
    {
     "data": {
      "text/plain": [
       "(array([ 117.,  108.,   79.,   46.,   28.,    9.,    9.,    3.,    0.,    1.]),\n",
       " array([  0.,   2.,   4.,   6.,   8.,  10.,  12.,  14.,  16.,  18.,  20.]),\n",
       " <a list of 10 Patch objects>)"
      ]
     },
     "execution_count": 49,
     "metadata": {},
     "output_type": "execute_result"
    },
    {
     "data": {
      "image/png": "[encoded data removed]",
      "text/plain": [
       "<matplotlib.figure.Figure at 0x1a23395b90>"
      ]
     },
     "metadata": {},
     "output_type": "display_data"
    }
   ],
   "source": [
    "fig, ax = plt.subplots()\n",
    "ax.hist(df_0[df_0['label']=='ENS'].DT_pass_cnt.apply(lambda x: np.array(x).sum()))\n",
    "#ax.hist(df_0[df_0['label']=='KOR'].DT_pass_cnt.apply(lambda x: np.array(x).sum()))\n",
    "#ax.hist(df_0[df_0['label']=='CHN'].DT_pass_cnt.apply(lambda x: np.array(x).sum()))"
   ]
  },
  {
   "cell_type": "markdown",
   "metadata": {},
   "source": [
    "### Count of 'mark'"
   ]
  },
  {
   "cell_type": "code",
   "execution_count": 50,
   "metadata": {
    "collapsed": true
   },
   "outputs": [],
   "source": [
    "df_0['DT_mark_cnt'] = df_0['DT_archs'].apply(lambda x: [len([dep for dep in s.split(' ') if dep=='mark']) for s in x])"
   ]
  },
  {
   "cell_type": "code",
   "execution_count": 53,
   "metadata": {},
   "outputs": [
    {
     "data": {
      "text/plain": [
       "(array([  21.,  131.,  127.,  240.,   87.,  124.,   49.,   12.,    5.,    4.]),\n",
       " array([  0. ,   1.6,   3.2,   4.8,   6.4,   8. ,   9.6,  11.2,  12.8,\n",
       "         14.4,  16. ]),\n",
       " <a list of 10 Patch objects>)"
      ]
     },
     "execution_count": 53,
     "metadata": {},
     "output_type": "execute_result"
    },
    {
     "data": {
      "image/png": "[encoded data removed]",
      "text/plain": [
       "<matplotlib.figure.Figure at 0x1a23e3bbd0>"
      ]
     },
     "metadata": {},
     "output_type": "display_data"
    }
   ],
   "source": [
    "fig, ax = plt.subplots()\n",
    "#ax.hist(df_0[df_0['label']=='ENS'].DT_mark_cnt.apply(lambda x: np.array(x).sum()))\n",
    "#ax.hist(df_0[df_0['label']=='KOR'].DT_mark_cnt.apply(lambda x: np.array(x).sum()))\n",
    "ax.hist(df_0[df_0['label']=='CHN'].DT_mark_cnt.apply(lambda x: np.array(x).sum()))"
   ]
  },
  {
   "cell_type": "markdown",
   "metadata": {},
   "source": [
    "## Simple models"
   ]
  },
  {
   "cell_type": "code",
   "execution_count": 115,
   "metadata": {},
   "outputs": [
    {
     "data": {
      "text/plain": [
       "Index([u'doc_id', u'path', u'author_code', u'essay_content', u'label',\n",
       "       u'DT_max_dp_cnts', u'DT_archs', u'DT_ROOT_idx', u'DT_pass_cnt',\n",
       "       u'DT_mark_cnt', u'POS_adjv_body', u'DT_pos', u'DT_pos_join',\n",
       "       u'DT_archs_join'],\n",
       "      dtype='object')"
      ]
     },
     "execution_count": 115,
     "metadata": {},
     "output_type": "execute_result"
    }
   ],
   "source": [
    "df_0.columns"
   ]
  },
  {
   "cell_type": "code",
   "execution_count": null,
   "metadata": {
    "collapsed": true
   },
   "outputs": [],
   "source": [
    "X = df_0[]\n",
    "y = df_0['label']\n",
    "X_train, X_test, y_train, y_test = train_test_split(X, y, train_size=0.5)\n",
    "clf = LogisticRegression()\n",
    "#clf.fit(X_train_dtm[120:140], y_train[120:140])\n",
    "clf.fit(X_train_dtm, y_train)\n",
    "y_pred = clf.predict(X_test_dtm)"
   ]
  },
  {
   "cell_type": "code",
   "execution_count": null,
   "metadata": {
    "collapsed": true
   },
   "outputs": [],
   "source": [
    "accuracy_score(y_test, y_pred)"
   ]
  }
 ],
 "metadata": {
  "kernelspec": {
   "display_name": "Python 2",
   "language": "python",
   "name": "python2"
  },
  "language_info": {
   "codemirror_mode": {
    "name": "ipython",
    "version": 2
   },
   "file_extension": ".py",
   "mimetype": "text/x-python",
   "name": "python",
   "nbconvert_exporter": "python",
   "pygments_lexer": "ipython2",
   "version": "2.7.13"
  }
 },
 "nbformat": 4,
 "nbformat_minor": 2
}
